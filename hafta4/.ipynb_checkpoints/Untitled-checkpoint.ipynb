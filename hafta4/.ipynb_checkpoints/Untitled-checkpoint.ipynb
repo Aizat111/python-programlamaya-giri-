{
 "cells": [
  {
   "cell_type": "code",
   "execution_count": null,
   "id": "c6fdea33",
   "metadata": {},
   "outputs": [],
   "source": [
    "\"\"\"\n",
    "try: Bir kod bloğunu hatalar için test eder\n",
    "except: Kod bloğundaki bir hata durumunda işlemler yapar\n",
    "else: Hata olmadığında işlemler yapar\n",
    "finally: try-except sonucundan bağımsız olarak işlem yapar\n",
    "\"\"\""
   ]
  },
  {
   "cell_type": "code",
   "execution_count": 1,
   "id": "52508d43",
   "metadata": {},
   "outputs": [
    {
     "name": "stdout",
     "output_type": "stream",
     "text": [
      "Bir hata oluştu\n"
     ]
    }
   ],
   "source": [
    "try:\n",
    "    print(x)\n",
    "except:\n",
    "    print(\"Bir hata oluştu\")"
   ]
  },
  {
   "cell_type": "code",
   "execution_count": 2,
   "id": "9c32d189",
   "metadata": {},
   "outputs": [
    {
     "name": "stdout",
     "output_type": "stream",
     "text": [
      "x tanımlı değil\n"
     ]
    }
   ],
   "source": [
    "# birden fazla hata tanımlanabilir.\n",
    "try:\n",
    "    print(x)\n",
    "except NameError:\n",
    "    print(\"x tanımlı değil\")\n",
    "except:\n",
    "    print(\"başka bir hata var\")"
   ]
  },
  {
   "cell_type": "code",
   "execution_count": 3,
   "id": "4ea8fdc3",
   "metadata": {},
   "outputs": [
    {
     "name": "stdout",
     "output_type": "stream",
     "text": [
      "4\n",
      "hata yok\n"
     ]
    }
   ],
   "source": [
    "# hata meydana gelmezse else bloğu çalışır\n",
    "x=4\n",
    "try:\n",
    "    print(x)\n",
    "except:\n",
    "    print(\"Bir hata oluştu\")\n",
    "else:\n",
    "    print(\"hata yok\")"
   ]
  },
  {
   "cell_type": "code",
   "execution_count": 4,
   "id": "a2ad065d",
   "metadata": {},
   "outputs": [
    {
     "name": "stdout",
     "output_type": "stream",
     "text": [
      "4\n",
      "hata yok\n",
      "Try-except sona erdi\n"
     ]
    }
   ],
   "source": [
    "# hata olsun ya da olmasın, işlem sonunda finally bloğu çalışır\n",
    "x=4\n",
    "try:\n",
    "    print(x)\n",
    "except:\n",
    "    print(\"Bir hata oluştu\")\n",
    "else:\n",
    "    print(\"hata yok\")\n",
    "finally:\n",
    "    print(\"Try-except sona erdi\")"
   ]
  },
  {
   "cell_type": "code",
   "execution_count": 6,
   "id": "942b0c0e",
   "metadata": {},
   "outputs": [
    {
     "name": "stdout",
     "output_type": "stream",
     "text": [
      "name 'y' is not defined\n"
     ]
    }
   ],
   "source": [
    "# as ile orijinal hata mesajını göstermek\n",
    "try:\n",
    "    print(y)\n",
    "except NameError as hata:\n",
    "    print(hata)"
   ]
  },
  {
   "cell_type": "code",
   "execution_count": 7,
   "id": "3dd35ad7",
   "metadata": {},
   "outputs": [
    {
     "name": "stdout",
     "output_type": "stream",
     "text": [
      "Dosya açılırken hata oluştu\n"
     ]
    }
   ],
   "source": [
    "# iç içe try-except oluşturulabilir\n",
    "try:\n",
    "    f=open(\"dosya.txt\")\n",
    "    try:\n",
    "        f.write(\"Konya Teknik\")\n",
    "    except:\n",
    "        print(\"Dosyay yazarken hata oluşur\")\n",
    "    finally:\n",
    "        f.close()\n",
    "except:\n",
    "    print(\"Dosya açılırken hata oluştu\")"
   ]
  },
  {
   "cell_type": "code",
   "execution_count": 8,
   "id": "a87335d9",
   "metadata": {},
   "outputs": [
    {
     "name": "stdout",
     "output_type": "stream",
     "text": [
      "Sıfırdan küçük olamaz\n"
     ]
    }
   ],
   "source": [
    "# raise (hata oluşturma): herhangi bir koşul durumunda özel bir hata durumu oluşturabiliriz.\n",
    "def sayi(x):\n",
    "    if x<0:\n",
    "        raise Exception(\"Sıfırdan küçük olamaz\")\n",
    "try:\n",
    "    sayi(-5)\n",
    "except Exception as hata:\n",
    "    print(hata)"
   ]
  },
  {
   "cell_type": "code",
   "execution_count": null,
   "id": "fab34851",
   "metadata": {},
   "outputs": [],
   "source": []
  }
 ],
 "metadata": {
  "kernelspec": {
   "display_name": "Python 3 (ipykernel)",
   "language": "python",
   "name": "python3"
  },
  "language_info": {
   "codemirror_mode": {
    "name": "ipython",
    "version": 3
   },
   "file_extension": ".py",
   "mimetype": "text/x-python",
   "name": "python",
   "nbconvert_exporter": "python",
   "pygments_lexer": "ipython3",
   "version": "3.9.7"
  }
 },
 "nbformat": 4,
 "nbformat_minor": 5
}

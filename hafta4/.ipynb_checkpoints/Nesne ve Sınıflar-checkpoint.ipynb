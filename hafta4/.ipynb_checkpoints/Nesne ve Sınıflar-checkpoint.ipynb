{
 "cells": [
  {
   "cell_type": "code",
   "execution_count": 1,
   "id": "cf47486b",
   "metadata": {},
   "outputs": [
    {
     "name": "stdout",
     "output_type": "stream",
     "text": [
      "Tom\n"
     ]
    }
   ],
   "source": [
    "# pythondaki hemen hemen her şey, özellikle ve yöntemleri ile bir nesnedir.\n",
    "# class kelimesi ile sınıf oluşturulur\n",
    "class People:\n",
    "    name=\"Tom\"\n",
    "student=People()\n",
    "print(student.name)\n"
   ]
  },
  {
   "cell_type": "code",
   "execution_count": 2,
   "id": "852a1ce5",
   "metadata": {},
   "outputs": [
    {
     "name": "stdout",
     "output_type": "stream",
     "text": [
      "Jerry\n",
      "21\n"
     ]
    }
   ],
   "source": [
    "# __init__() fonksiyonu: Sınıf başlatılırken yürütülür. Nesne oluşturulurken yapılması gereken işlemler varsa onun için kullanılır.\n",
    "class People:\n",
    "    def __init__(self,name,age):\n",
    "        self.name=name\n",
    "        self.age=age\n",
    "student=People(\"Jerry\",21)\n",
    "print(student.name)\n",
    "print(student.age)"
   ]
  },
  {
   "cell_type": "code",
   "execution_count": 4,
   "id": "2d79a491",
   "metadata": {},
   "outputs": [
    {
     "name": "stdout",
     "output_type": "stream",
     "text": [
      "Pokemon 15\n"
     ]
    }
   ],
   "source": [
    "#nesne metodları: nesneler metodlar içerebilir. Nesnedeki metodlar, nesneye ait olan fonksiyonlardır.\n",
    "class Person:\n",
    "    def __init__(self,name,age):\n",
    "        self.name=name\n",
    "        self.age=age\n",
    "    def printInfo(self):\n",
    "        print(self.name,self.age)\n",
    "student=Person(\"Pokemon\",15)\n",
    "student.printInfo()"
   ]
  },
  {
   "cell_type": "code",
   "execution_count": 8,
   "id": "08eac3ed",
   "metadata": {},
   "outputs": [
    {
     "name": "stdout",
     "output_type": "stream",
     "text": [
      "Aizat\n"
     ]
    }
   ],
   "source": [
    "# self parametresinin ismi self olamk zorunda değildir. Sınıftaki herhangi bir fonksiyonun ilk parametresi olmalıdır.\n",
    "class Kisiler:\n",
    "    def __init__(ozparametre,name):\n",
    "        ozparametre.name=name\n",
    "    def yaz(xyz):\n",
    "        print(xyz.name)\n",
    "ogr=Kisiler(\"Aizat\")\n",
    "ogr.yaz()\n"
   ]
  },
  {
   "cell_type": "code",
   "execution_count": 9,
   "id": "1a456aa2",
   "metadata": {},
   "outputs": [
    {
     "name": "stdout",
     "output_type": "stream",
     "text": [
      "MYKY\n"
     ]
    }
   ],
   "source": [
    "# nesen özelliklerini değiştirme;\n",
    "ogr.name=\"MYKY\"\n",
    "ogr.yaz()"
   ]
  },
  {
   "cell_type": "code",
   "execution_count": 7,
   "id": "1dbe19f9",
   "metadata": {},
   "outputs": [
    {
     "ename": "AttributeError",
     "evalue": "'Kisiler' object has no attribute 'name'",
     "output_type": "error",
     "traceback": [
      "\u001b[0;31m---------------------------------------------------------------------------\u001b[0m",
      "\u001b[0;31mAttributeError\u001b[0m                            Traceback (most recent call last)",
      "\u001b[0;32m/var/folders/kp/6q57p5qj75v7krbh1nrb36gm0000gn/T/ipykernel_2851/4060051206.py\u001b[0m in \u001b[0;36m<module>\u001b[0;34m\u001b[0m\n\u001b[1;32m      1\u001b[0m \u001b[0;31m# nesne özelliklerini silme:\u001b[0m\u001b[0;34m\u001b[0m\u001b[0;34m\u001b[0m\u001b[0m\n\u001b[1;32m      2\u001b[0m \u001b[0;32mdel\u001b[0m \u001b[0mogr\u001b[0m\u001b[0;34m.\u001b[0m\u001b[0mname\u001b[0m\u001b[0;34m\u001b[0m\u001b[0;34m\u001b[0m\u001b[0m\n\u001b[0;32m----> 3\u001b[0;31m \u001b[0mogr\u001b[0m\u001b[0;34m.\u001b[0m\u001b[0myaz\u001b[0m\u001b[0;34m(\u001b[0m\u001b[0;34m)\u001b[0m\u001b[0;34m\u001b[0m\u001b[0;34m\u001b[0m\u001b[0m\n\u001b[0m",
      "\u001b[0;32m/var/folders/kp/6q57p5qj75v7krbh1nrb36gm0000gn/T/ipykernel_2851/3912063384.py\u001b[0m in \u001b[0;36myaz\u001b[0;34m(xyz)\u001b[0m\n\u001b[1;32m      4\u001b[0m         \u001b[0mozparametre\u001b[0m\u001b[0;34m.\u001b[0m\u001b[0mname\u001b[0m\u001b[0;34m=\u001b[0m\u001b[0mname\u001b[0m\u001b[0;34m\u001b[0m\u001b[0;34m\u001b[0m\u001b[0m\n\u001b[1;32m      5\u001b[0m     \u001b[0;32mdef\u001b[0m \u001b[0myaz\u001b[0m\u001b[0;34m(\u001b[0m\u001b[0mxyz\u001b[0m\u001b[0;34m)\u001b[0m\u001b[0;34m:\u001b[0m\u001b[0;34m\u001b[0m\u001b[0;34m\u001b[0m\u001b[0m\n\u001b[0;32m----> 6\u001b[0;31m         \u001b[0mprint\u001b[0m\u001b[0;34m(\u001b[0m\u001b[0mxyz\u001b[0m\u001b[0;34m.\u001b[0m\u001b[0mname\u001b[0m\u001b[0;34m)\u001b[0m\u001b[0;34m\u001b[0m\u001b[0;34m\u001b[0m\u001b[0m\n\u001b[0m\u001b[1;32m      7\u001b[0m \u001b[0mogr\u001b[0m\u001b[0;34m=\u001b[0m\u001b[0mKisiler\u001b[0m\u001b[0;34m(\u001b[0m\u001b[0;34m\"Aizat\"\u001b[0m\u001b[0;34m)\u001b[0m\u001b[0;34m\u001b[0m\u001b[0;34m\u001b[0m\u001b[0m\n\u001b[1;32m      8\u001b[0m \u001b[0mogr\u001b[0m\u001b[0;34m.\u001b[0m\u001b[0myaz\u001b[0m\u001b[0;34m(\u001b[0m\u001b[0;34m)\u001b[0m\u001b[0;34m\u001b[0m\u001b[0;34m\u001b[0m\u001b[0m\n",
      "\u001b[0;31mAttributeError\u001b[0m: 'Kisiler' object has no attribute 'name'"
     ]
    }
   ],
   "source": [
    "# nesne özelliklerini silme:\n",
    "del ogr.name\n",
    "ogr.yaz() #hata verir artık yas yok\n",
    "\n"
   ]
  },
  {
   "cell_type": "code",
   "execution_count": null,
   "id": "993c5b9e",
   "metadata": {},
   "outputs": [],
   "source": [
    "# pass kullanımı: class tanımlar boi olamaz"
   ]
  }
 ],
 "metadata": {
  "kernelspec": {
   "display_name": "Python 3 (ipykernel)",
   "language": "python",
   "name": "python3"
  },
  "language_info": {
   "codemirror_mode": {
    "name": "ipython",
    "version": 3
   },
   "file_extension": ".py",
   "mimetype": "text/x-python",
   "name": "python",
   "nbconvert_exporter": "python",
   "pygments_lexer": "ipython3",
   "version": "3.9.7"
  }
 },
 "nbformat": 4,
 "nbformat_minor": 5
}

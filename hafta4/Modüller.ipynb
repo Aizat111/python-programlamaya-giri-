{
 "cells": [
  {
   "cell_type": "code",
   "execution_count": null,
   "id": "a3878c2b",
   "metadata": {},
   "outputs": [],
   "source": [
    "# Modulü kullanmak: Bir modulüm program içinde kullanılması için import kullanılır.\n",
    "#Modüldeki bir fonksiyon veya değişken kullanımında \".\" işareti kullanılmalıdır"
   ]
  },
  {
   "cell_type": "code",
   "execution_count": 1,
   "id": "52a6aa9d",
   "metadata": {},
   "outputs": [
    {
     "name": "stdout",
     "output_type": "stream",
     "text": [
      "Ahmet\n"
     ]
    }
   ],
   "source": [
    "import modul1\n",
    "print(modul1.kisi1[\"ad\"])\n",
    "# modul1.goster(\"Aizat\") !!! burda neden hata veriyor bilmiyorum ama çalışmıyor\n",
    "\n"
   ]
  },
  {
   "cell_type": "code",
   "execution_count": 4,
   "id": "5101a50a",
   "metadata": {},
   "outputs": [
    {
     "name": "stdout",
     "output_type": "stream",
     "text": [
      "21\n"
     ]
    }
   ],
   "source": [
    "#takma ad: Program içerisinde bir modül için takma ad kullanılabilir.\n",
    "import modul1 as m1\n",
    "print(m1.kisi1[\"yas\"])"
   ]
  },
  {
   "cell_type": "code",
   "execution_count": 19,
   "id": "fb8af4c1",
   "metadata": {},
   "outputs": [],
   "source": [
    "\"\"\"\n",
    "from: Bir modülden sadece istenilen bölümleri aktarmak için kullanılır. from kullanılarak içe\n",
    "aktarılan öğelere atıfta bulunurken modül adı kullanılmaz\n",
    "\"\"\""
   ]
  },
  {
   "cell_type": "code",
   "execution_count": 3,
   "id": "58b7c704",
   "metadata": {},
   "outputs": [
    {
     "name": "stdout",
     "output_type": "stream",
     "text": [
      "21\n"
     ]
    }
   ],
   "source": [
    "from modul1 import kisi1\n",
    "print(kisi1[\"yas\"])\n",
    "#modul1.kisi1[\"yas\"] kullanımında hata verir (is not defined)"
   ]
  },
  {
   "cell_type": "code",
   "execution_count": 6,
   "id": "a465136d",
   "metadata": {},
   "outputs": [
    {
     "data": {
      "text/plain": [
       "'\\nfrom modul1 import kisi1, goster # from modul1 import (kisi1,goster)\\nprint(kisi1[\"yas\"])\\ngoster(\"Konya\")\\n'"
      ]
     },
     "execution_count": 6,
     "metadata": {},
     "output_type": "execute_result"
    }
   ],
   "source": [
    "# birden fazla öğeyi kullanmak için aralarına \",\" koyarak kullanılabilir\n",
    "\"\"\"\n",
    "from modul1 import kisi1, goster # from modul1 import (kisi1,goster)\n",
    "print(kisi1[\"yas\"])\n",
    "goster(\"Konya\")\n",
    "\"\"\"\n"
   ]
  },
  {
   "cell_type": "code",
   "execution_count": null,
   "id": "13953b74",
   "metadata": {},
   "outputs": [],
   "source": [
    "# * kullanılarak tüm bölümler aktarılabilir\n",
    "from modul1 import *"
   ]
  },
  {
   "cell_type": "code",
   "execution_count": null,
   "id": "87ed0d8c",
   "metadata": {},
   "outputs": [],
   "source": [
    "# NOT: Eğer bir modülden from kullanılarak aktarılan bir işlev ile progra içerisinde kullanılan\n",
    "# bir işlev aynı ada sahip ise program içerisinde tanımlanan dikkate alınır\n",
    "\"\"\"\n",
    "from modul1 import goster\n",
    "goster(\"Konya\")\n",
    "def goster():\n",
    "    print(\"Deneme\")\n",
    "goster() #modüldeki artık kullanılamaz goster(\"Konya\")\n",
    "\"\"\""
   ]
  },
  {
   "cell_type": "code",
   "execution_count": 7,
   "id": "ff871b4b",
   "metadata": {},
   "outputs": [
    {
     "name": "stdout",
     "output_type": "stream",
     "text": [
      "['__doc__', '__file__', '__loader__', '__name__', '__package__', '__spec__', 'acos', 'acosh', 'asin', 'asinh', 'atan', 'atan2', 'atanh', 'ceil', 'comb', 'copysign', 'cos', 'cosh', 'degrees', 'dist', 'e', 'erf', 'erfc', 'exp', 'expm1', 'fabs', 'factorial', 'floor', 'fmod', 'frexp', 'fsum', 'gamma', 'gcd', 'hypot', 'inf', 'isclose', 'isfinite', 'isinf', 'isnan', 'isqrt', 'lcm', 'ldexp', 'lgamma', 'log', 'log10', 'log1p', 'log2', 'modf', 'nan', 'nextafter', 'perm', 'pi', 'pow', 'prod', 'radians', 'remainder', 'sin', 'sinh', 'sqrt', 'tan', 'tanh', 'tau', 'trunc', 'ulp']\n",
      "-----------------------\n",
      "['__builtins__', '__cached__', '__doc__', '__file__', '__loader__', '__name__', '__package__', '__spec__', 'kisi1', 'notWorks1']\n"
     ]
    }
   ],
   "source": [
    "# dir(): Bir modülün sahip olduğu işlevlerin listesini görmek için kullanılır\n",
    "import modul1 as m1\n",
    "import math\n",
    "print(dir(math))\n",
    "print(\"-----------------------\")\n",
    "print(dir(m1))\n"
   ]
  },
  {
   "cell_type": "code",
   "execution_count": 52,
   "id": "d6bf810e",
   "metadata": {},
   "outputs": [
    {
     "name": "stdout",
     "output_type": "stream",
     "text": [
      "0.9455139013004444\n",
      "3\n",
      "5.2321449140048735\n",
      "5\n",
      "1\n",
      "['o', 'K', 'a']\n",
      "[4, 6, 3, 2, 1, 5]\n"
     ]
    }
   ],
   "source": [
    "#########RANDOM MODÜLÜ###############\n",
    "# Rastgele sayılar üretmek için kullanılan yerleşik modüldür\n",
    "\n",
    "import random as r\n",
    "print(r.random())  # her defasında 0-1 arasında farklı ondalıklı sayı\n",
    "print(r.randint(2,8)) # beliritilen aralıkta (aralıklar dahil) tam sayı\n",
    "print(r.uniform(3,9)) # belirtilen aralıkta (aralıklar hariç) ondalıklı sayı\n",
    "print(r.randrange(1,11,4)) # range ile oluşturulan sayı listesinden ragtgele tam sayı, 3.parametre artış sayısı\n",
    "\n",
    "list=[1,2,3,4,5,6]\n",
    "print(r.choice(list)) # bir liste, demet, küme veya string'den seçim yapar\n",
    "print(r.sample(\"Konya\",3)) # bir liste, demet, küme veya string'den istenilem adette seçim yapar\n",
    "r.shuffle(list) # bir listenin öğelerini karıştırır, liste değişir\n",
    "print(list)\n"
   ]
  },
  {
   "cell_type": "code",
   "execution_count": 51,
   "id": "5b526726",
   "metadata": {},
   "outputs": [
    {
     "name": "stdout",
     "output_type": "stream",
     "text": [
      "[1, 4, 3, 2, 5, 6]\n"
     ]
    },
    {
     "name": "stderr",
     "output_type": "stream",
     "text": [
      "/var/folders/kp/6q57p5qj75v7krbh1nrb36gm0000gn/T/ipykernel_1411/2612156098.py:8: DeprecationWarning: The *random* parameter to shuffle() has been deprecated\n",
      "since Python 3.9 and will be removed in a subsequent version.\n",
      "  r.shuffle(list,s)\n"
     ]
    }
   ],
   "source": [
    "import random as r\n",
    "\"\"\"\n",
    "shuffle'ı, fonksiyon vererek kullanma: varsayılan fonksiyon random() dur 0 ile 1 arasında bir\n",
    "değerdir. Eğer sabit bir değer verirsek karıştırma sonucu her zaman aynı olur\n",
    "\"\"\"\n",
    "def s():\n",
    "    return 0.5\n",
    "r.shuffle(list,s)\n",
    "print(list)"
   ]
  },
  {
   "cell_type": "code",
   "execution_count": 54,
   "id": "9dee09c8",
   "metadata": {},
   "outputs": [],
   "source": [
    "#### TARİH MODÜLÜ #####\n",
    "# Zaman , saat ve tarihle ilgili işlemler yapabilmemizi sağlar\n",
    "import datetime as d"
   ]
  },
  {
   "cell_type": "code",
   "execution_count": 57,
   "id": "8c9342e0",
   "metadata": {},
   "outputs": [
    {
     "name": "stdout",
     "output_type": "stream",
     "text": [
      "2022-04-14 12:40:32.217172\n"
     ]
    }
   ],
   "source": [
    "x=d.datetime.now() # yıl ay gün saat dakika saniye mikrosaniye\n",
    "print(x)"
   ]
  },
  {
   "cell_type": "code",
   "execution_count": 58,
   "id": "66b069ac",
   "metadata": {},
   "outputs": [
    {
     "name": "stdout",
     "output_type": "stream",
     "text": [
      "2022\n",
      "4\n",
      "14\n"
     ]
    }
   ],
   "source": [
    "print(x.year)\n",
    "print(x.month)\n",
    "print(x.day)"
   ]
  },
  {
   "cell_type": "code",
   "execution_count": 59,
   "id": "ce5c60ad",
   "metadata": {},
   "outputs": [
    {
     "name": "stdout",
     "output_type": "stream",
     "text": [
      "2001-01-21 00:00:00\n"
     ]
    }
   ],
   "source": [
    "# bir tarih kullanmak için: datetime() sınıfı kullanılabilir. Yıl, ay ve gün parametreleri mutlaka verilmelidir. Diğer parametreler isteğe bağlıdır\n",
    "y=datetime.datetime(2001,1,21)\n",
    "print(y)"
   ]
  },
  {
   "cell_type": "code",
   "execution_count": 62,
   "id": "968433c3",
   "metadata": {},
   "outputs": [
    {
     "name": "stdout",
     "output_type": "stream",
     "text": [
      "Thursday\n"
     ]
    }
   ],
   "source": [
    "\"\"\"\n",
    "strftime() metodu: datetime nesnesinin, tarih nesnelerini okunabilir string\n",
    "halinde biçimlendiren bir yöntemi vardır. Döndüren string'in biçimini\n",
    "belirtmek için bir parametre alır\n",
    "\"\"\"\n",
    "print(x.strftime(\"%A\"))"
   ]
  },
  {
   "cell_type": "code",
   "execution_count": null,
   "id": "e55939ca",
   "metadata": {},
   "outputs": [],
   "source": [
    "\"\"\"\n",
    "%a----Weekday,short version-----wed,thu\n",
    "%A----Weekday, full version------Wednesday\n",
    "%w----Weekday as number  0-6,0 is Sunday-----3\n",
    "%d----Day of month 01-31--------31\n",
    "%b----Month name, short version---Dec\n",
    "%B----Month name, full version---December\n",
    "%m----month as number 01-12------12\n",
    "%y----Year,short version, without century----22\n",
    "%Y----Year, full version----2022\n",
    "%H----Hour, 00-23----17\n",
    "%l----Hour, 00-12----05\n",
    "%p----AM/PM-----PM\n",
    "%M----Minute 00-59---41\n",
    "%S----Second 00-59---08\n",
    "%f----Microsecond 000000-999999\n",
    "%z----UTC offset----+0100\n",
    "%Z----Timezone----CST\n",
    "%j----Day number of year 001-366-----365\n",
    "%U----Week number of year. 00-53---52\n",
    "%c----Local version of date and time---Mon Dec 31 17:41:000 2018\n",
    "%C----Century-------21\n",
    "%x----Local version of date------12/31/18\n",
    "%X----Loacl version of time-----17:41:00\n",
    "%%----A %character-----%\n",
    "%G----ISO 8601 year---2018\n",
    "%u----ISO 8601 weekday(1-7)----1\n",
    "%V----ISO 8601 weeknumber(01-53)----01\n",
    "\"\"\""
   ]
  },
  {
   "cell_type": "code",
   "execution_count": 63,
   "id": "aeab1ecc",
   "metadata": {},
   "outputs": [],
   "source": [
    "####### ZAMAN MODÜLÜ######\n",
    "import time as t"
   ]
  },
  {
   "cell_type": "code",
   "execution_count": 66,
   "id": "9b41967c",
   "metadata": {},
   "outputs": [
    {
     "name": "stdout",
     "output_type": "stream",
     "text": [
      "1649930334.540027\n"
     ]
    }
   ],
   "source": [
    "x=t.time() # ePoch zamanı 1 ocak 1970'den bu yana\n",
    "print(x)"
   ]
  },
  {
   "cell_type": "code",
   "execution_count": 67,
   "id": "0074658f",
   "metadata": {},
   "outputs": [
    {
     "name": "stdout",
     "output_type": "stream",
     "text": [
      "time.struct_time(tm_year=2022, tm_mon=4, tm_mday=14, tm_hour=12, tm_min=59, tm_sec=19, tm_wday=3, tm_yday=104, tm_isdst=0)\n"
     ]
    }
   ],
   "source": [
    "y=t.localtime() # anlık tarih ve zaman bilgisini bir yapı şeklinde verir\n",
    "print(y)"
   ]
  },
  {
   "cell_type": "code",
   "execution_count": 69,
   "id": "446a6d89",
   "metadata": {},
   "outputs": [
    {
     "name": "stdout",
     "output_type": "stream",
     "text": [
      "2022\n",
      "3\n",
      "59\n"
     ]
    }
   ],
   "source": [
    "print(y.tm_year)\n",
    "print(y.tm_wday)\n",
    "print(y.tm_min)"
   ]
  },
  {
   "cell_type": "code",
   "execution_count": 70,
   "id": "6daea634",
   "metadata": {},
   "outputs": [
    {
     "name": "stdout",
     "output_type": "stream",
     "text": [
      "Thu Apr 14 13:01:38 2022\n"
     ]
    }
   ],
   "source": [
    "z=t.ctime() # anlık tarih ve zaman bilgisini formatlı bir şekilde verir\n",
    "print(z)"
   ]
  },
  {
   "cell_type": "code",
   "execution_count": 71,
   "id": "a33854c2",
   "metadata": {},
   "outputs": [
    {
     "name": "stdout",
     "output_type": "stream",
     "text": [
      "0\n",
      "1\n",
      "2\n",
      "3\n",
      "4\n",
      "5\n"
     ]
    }
   ],
   "source": [
    "# sleep() fonksiyonu: Kodların işleyişinde belirli bir süre(saniye) kesinti sağlar\n",
    "import time\n",
    "for i in range(6):\n",
    "    print(i)\n",
    "    time.sleep(2)"
   ]
  },
  {
   "cell_type": "code",
   "execution_count": null,
   "id": "642c3d52",
   "metadata": {},
   "outputs": [],
   "source": [
    "# local modülü: Sistemimizin yerel dil bilgisini kullanmak için kullanılır\n",
    "import locale\n",
    "locale.setlocale(locale.LC_ALL,'turkish')"
   ]
  }
 ],
 "metadata": {
  "kernelspec": {
   "display_name": "Python 3 (ipykernel)",
   "language": "python",
   "name": "python3"
  },
  "language_info": {
   "codemirror_mode": {
    "name": "ipython",
    "version": 3
   },
   "file_extension": ".py",
   "mimetype": "text/x-python",
   "name": "python",
   "nbconvert_exporter": "python",
   "pygments_lexer": "ipython3",
   "version": "3.9.7"
  }
 },
 "nbformat": 4,
 "nbformat_minor": 5
}

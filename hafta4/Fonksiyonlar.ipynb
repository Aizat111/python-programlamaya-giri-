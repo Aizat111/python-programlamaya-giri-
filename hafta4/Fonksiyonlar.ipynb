{
 "cells": [
  {
   "cell_type": "code",
   "execution_count": 1,
   "id": "25900771",
   "metadata": {},
   "outputs": [
    {
     "name": "stdout",
     "output_type": "stream",
     "text": [
      "Konya\n"
     ]
    }
   ],
   "source": [
    "# pythonda def anahtar sözcüğü kullanılarak bir fonksiyon tanımlanır\n",
    "# bir fonskiyonu çağırmak için fonksiyon adı parantezle birlikte kullanılır\n",
    "def deneme():\n",
    "    print(\"Konya\")\n",
    "deneme()"
   ]
  },
  {
   "cell_type": "code",
   "execution_count": 4,
   "id": "2a2adb9b",
   "metadata": {},
   "outputs": [
    {
     "name": "stdout",
     "output_type": "stream",
     "text": [
      "Konya uni\n"
     ]
    }
   ],
   "source": [
    "# keyfi argümanlar, *args: fonksiyonuna kaç tane argüman iletilebileceği belli değilse, fonksiyon tanımında\n",
    "# parametre adından \"*\" kullanılır. Bu şekilde fonksiyon dizi şeklinde argümanlar alır ve buna göre öğelere erişilebilir.\n",
    "def deneme(*x):\n",
    "    print(x[0],x[1])\n",
    "deneme(\"Konya\",\"Teknik\")"
   ]
  },
  {
   "cell_type": "code",
   "execution_count": 7,
   "id": "f0c2ac8d",
   "metadata": {},
   "outputs": [
    {
     "name": "stdout",
     "output_type": "stream",
     "text": [
      "Konya Teknik\n"
     ]
    }
   ],
   "source": [
    "# Anahtar kelime kullanılan argumanlar: anahtar=değer sözdizimi ile argümanlar gönderilebilir. Bu şekilde argümanların sırası önemli değildir.\n",
    "def deneme(y,x):\n",
    "    print(x,y)\n",
    "deneme(x=\"Konya\",y=\"Teknik\")"
   ]
  },
  {
   "cell_type": "code",
   "execution_count": 10,
   "id": "3f276910",
   "metadata": {},
   "outputs": [
    {
     "name": "stdout",
     "output_type": "stream",
     "text": [
      "Konya Teknik\n"
     ]
    }
   ],
   "source": [
    "# Keyfi anahtar kelime kullanılan argümanlar: Fonksiyon kaç tane argüman iletileceği belli değilse,\n",
    "# fonksiyon tanımında parametre ardından \"*\" kullanılır. Bu şekilde fonksiyon sözlük\n",
    "# şeklinde argümanları alır ve buna göre öğelere erişebilir.\n",
    "def deneme(**arg):\n",
    "    print(arg[\"x\"],arg[\"y\"])\n",
    "deneme(x=\"Konya\",y=\"Teknik\",z=\"Universitesi\")\n",
    "\n",
    "\n"
   ]
  },
  {
   "cell_type": "code",
   "execution_count": 11,
   "id": "84a5d0c4",
   "metadata": {},
   "outputs": [
    {
     "name": "stdout",
     "output_type": "stream",
     "text": [
      "Konya\n",
      "Teknik\n"
     ]
    }
   ],
   "source": [
    "# varsayılan parametre değeri:Fonksiyon argümansız çağırılırsa, varsayılan değeri kullanır\n",
    "def deneme(x=\"Teknik\"):\n",
    "    print(x)\n",
    "deneme(\"Konya\")\n",
    "deneme()"
   ]
  },
  {
   "cell_type": "code",
   "execution_count": 12,
   "id": "e90f68d0",
   "metadata": {},
   "outputs": [
    {
     "name": "stdout",
     "output_type": "stream",
     "text": [
      "Konya Konya Konya Konya Konya \n"
     ]
    }
   ],
   "source": [
    "# dönüş değerleri: bir fonksiyonun, bir değer döndürmesine izin vermek için return ifadesi kullanılır\n",
    "def deneme(x):\n",
    "    return 5*x\n",
    "print(deneme(\"Konya \"))"
   ]
  },
  {
   "cell_type": "code",
   "execution_count": 13,
   "id": "16b7cad6",
   "metadata": {},
   "outputs": [],
   "source": [
    "# geçiş bildirimi: Fonksiyon içeriği boş olamaz, ancak herhangi bir nedenle fonksiyon içeriği olmayan\n",
    "# bir tanım yapılacak ise, hata almamak için pass ifadesi kullanılır.\n",
    "def deneme(x):\n",
    "    pass"
   ]
  },
  {
   "cell_type": "code",
   "execution_count": 15,
   "id": "e76959d5",
   "metadata": {},
   "outputs": [
    {
     "name": "stdout",
     "output_type": "stream",
     "text": [
      "1\n",
      "3\n",
      "6\n"
     ]
    },
    {
     "data": {
      "text/plain": [
       "6"
      ]
     },
     "execution_count": 15,
     "metadata": {},
     "output_type": "execute_result"
    }
   ],
   "source": [
    "# özyinemeli fonksiyon: fonksiyon kendi kendini çağırabilir\n",
    "def yinele(x):\n",
    "    if(x>0):\n",
    "        sonuc=x+yinele(x-1)\n",
    "        print(sonuc)\n",
    "    else:\n",
    "        sonuc=0\n",
    "    return sonuc\n",
    "yinele(3)"
   ]
  },
  {
   "cell_type": "code",
   "execution_count": 19,
   "id": "304a6bc7",
   "metadata": {},
   "outputs": [
    {
     "name": "stdout",
     "output_type": "stream",
     "text": [
      "15\n",
      "15\n",
      "30\n"
     ]
    }
   ],
   "source": [
    "######LAMBDA#######\n",
    "\"\"\"\n",
    "Lambda, küçük bir isimsiz fonksiyondur. Herhangi bir sayıda argüman alabilir, ancak yalnızca bir\n",
    "ifadeye sahip olabilir\n",
    "lambda argümanlar: ifade\n",
    "\"\"\"\n",
    "def topla(x):\n",
    "    return x+10\n",
    "print(topla(5))\n",
    "\n",
    "#lambda olarak kullanımı\n",
    "topla1=lambda x:x+10\n",
    "print(topla1(5))\n",
    "\n",
    "#birden fazla argüman kullanmak\n",
    "carp=lambda x,y:x*y\n",
    "print(carp(5,6))\n"
   ]
  },
  {
   "cell_type": "code",
   "execution_count": 20,
   "id": "3bf2b8f1",
   "metadata": {},
   "outputs": [
    {
     "name": "stdout",
     "output_type": "stream",
     "text": [
      "22\n"
     ]
    }
   ],
   "source": [
    "#lambda fonksiyonu başka fonksiyon içinde kullanıldığında daha anlam kazanır\n",
    "def carp(n):\n",
    "    return lambda a:a*n\n",
    "carpan=carp(2)\n",
    "print(carpan(11))\n",
    "\n",
    "\"\"\"\n",
    "Yukarıdaki örnekte carpan değeri kendine verilen sayıyı 2 ile carpan bir fonksiyon dönmüştür.\n",
    "Bu şekilde carpan(11) yazıldığında 22 sonucunu verir duruma gelir. Temel fonksiyon olan carp,\n",
    "farklı fonksiyonlar yaratmak için kullanılabilir.\n",
    "\"\"\""
   ]
  },
  {
   "cell_type": "code",
   "execution_count": null,
   "id": "26d78198",
   "metadata": {},
   "outputs": [],
   "source": []
  }
 ],
 "metadata": {
  "kernelspec": {
   "display_name": "Python 3 (ipykernel)",
   "language": "python",
   "name": "python3"
  },
  "language_info": {
   "codemirror_mode": {
    "name": "ipython",
    "version": 3
   },
   "file_extension": ".py",
   "mimetype": "text/x-python",
   "name": "python",
   "nbconvert_exporter": "python",
   "pygments_lexer": "ipython3",
   "version": "3.9.7"
  }
 },
 "nbformat": 4,
 "nbformat_minor": 5
}

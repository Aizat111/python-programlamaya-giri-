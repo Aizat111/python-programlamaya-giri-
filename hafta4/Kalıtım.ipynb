{
 "cells": [
  {
   "cell_type": "code",
   "execution_count": 12,
   "id": "c0e9736e",
   "metadata": {},
   "outputs": [
    {
     "name": "stdout",
     "output_type": "stream",
     "text": [
      "Ahmet 19\n"
     ]
    }
   ],
   "source": [
    "\"\"\"\n",
    "Kalıtım, tüm yöntemleri ve özellikleri, başka bir sınıftan miras alan bir sınıf tanımlamayı sağlar. Üst, ebevyen sınıf(parent class),\n",
    "temel sınıf olarak da adlandırılan, miras alınan sınıftır. Alt, çocuk sınıf, türetilmiş\n",
    "sınıf olarak da adlandırılan, başka bir sınıftan miras alana sınıftır.\n",
    "Üst sınıf, herhangi bir sınıf olabilir, bu nedenle sözdizii bir sınıf oluşturmak ile aynıdır.\n",
    "\"\"\"\n",
    "\n",
    "# örnek bir üst sınıf\n",
    "class Kisi():\n",
    "    def __init__(self,adi,yasi):\n",
    "        self.ad=adi\n",
    "        self.yas=yasi\n",
    "    def yaz(self):\n",
    "        print(self.ad,self.yas)\n",
    "\n",
    "x=Kisi(\"Ahmet\",19)\n",
    "x.yaz()"
   ]
  },
  {
   "cell_type": "code",
   "execution_count": 4,
   "id": "d550c04b",
   "metadata": {},
   "outputs": [
    {
     "name": "stdout",
     "output_type": "stream",
     "text": [
      "Ahmet 19\n"
     ]
    }
   ],
   "source": [
    "class Ogrenci(Kisi): #kisi sınıfını miras aldı\n",
    "    pass\n",
    "\n",
    "y=Ogrenci(\"Ahmet\",19)\n",
    "x.yaz()"
   ]
  },
  {
   "cell_type": "code",
   "execution_count": null,
   "id": "2ecdc73d",
   "metadata": {},
   "outputs": [],
   "source": [
    "\"\"\"\n",
    "__init__() fonksiyonu: Alt sınıfta, kendine ait özelliklerin kullanılması için eklenir. Eklendiğinde,\n",
    "üst sınıfın__init__ fonksiyonunu devralmaz, geçersiz kılar\n",
    "\"\"\"\n",
    "class Ogrenci(Kisi):\n",
    "    def __init__(self,adi,yasi):\n",
    "        pass\n",
    "\n",
    "\"\"\" Eğer, hem kendi sınıfına ait __init__ fonksiyonunu kullanmak, hem de üst sınıfın __init__fonksiyomu\n",
    "devralmak istneirse;\n",
    "\"\"\"\n",
    "class Ogrenci(Kisi):\n",
    "    def __init__(self,adi,yasi):\n",
    "        Kisi.__init__(self,adi,yasi):\n",
    "            pass\n",
    "        \n",
    "        # veya super().__init__(self,adi,yasi)"
   ]
  },
  {
   "cell_type": "code",
   "execution_count": 9,
   "id": "49efd2b5",
   "metadata": {},
   "outputs": [
    {
     "name": "stdout",
     "output_type": "stream",
     "text": [
      "1\n"
     ]
    }
   ],
   "source": [
    "# alt sınıfa özellik eklemek\n",
    "class Ogrenci(Kisi):\n",
    "    def __init__(self,adi,yasi):\n",
    "        super().__init__( adi, yasi)\n",
    "        self.num=1\n",
    "\n",
    "x=Ogrenci(\"Ayla\",5)\n",
    "print(x.num)\n"
   ]
  },
  {
   "cell_type": "code",
   "execution_count": 14,
   "id": "fd3c0889",
   "metadata": {},
   "outputs": [
    {
     "name": "stdout",
     "output_type": "stream",
     "text": [
      "Ahmet 19 2\n"
     ]
    }
   ],
   "source": [
    "# alt sınıfa method eklemek\n",
    "class Ogrenci(Kisi):\n",
    "    def __init__(self,adi,yasi,num):\n",
    "        super().__init__(adi,yasi)\n",
    "        self.num=num\n",
    "    def goster(self):\n",
    "        print(self.ad,self.yas,self.num)\n",
    "\n",
    "x=Ogrenci(\"Ahmet\",19,2)\n",
    "x.goster()"
   ]
  },
  {
   "cell_type": "code",
   "execution_count": null,
   "id": "eb1f0630",
   "metadata": {},
   "outputs": [],
   "source": [
    "## alt sınıfa, süt sınıftaki bir işlevle aynı ada sahip bir yöntem eklerseniz,\n",
    "# üst yöntemin mirası geçersiz kılınır\n"
   ]
  }
 ],
 "metadata": {
  "kernelspec": {
   "display_name": "Python 3 (ipykernel)",
   "language": "python",
   "name": "python3"
  },
  "language_info": {
   "codemirror_mode": {
    "name": "ipython",
    "version": 3
   },
   "file_extension": ".py",
   "mimetype": "text/x-python",
   "name": "python",
   "nbconvert_exporter": "python",
   "pygments_lexer": "ipython3",
   "version": "3.9.7"
  }
 },
 "nbformat": 4,
 "nbformat_minor": 5
}

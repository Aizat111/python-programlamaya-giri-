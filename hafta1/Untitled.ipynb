{
 "cells": [
  {
   "cell_type": "code",
   "execution_count": 6,
   "id": "c84fb271",
   "metadata": {},
   "outputs": [
    {
     "data": {
      "text/plain": [
       "False"
      ]
     },
     "execution_count": 6,
     "metadata": {},
     "output_type": "execute_result"
    }
   ],
   "source": [
    "#mantıksal operatörler\n",
    "(3<5)and(5>4)\n",
    "(3==3)or(3>5)\n",
    "not(3==3)"
   ]
  },
  {
   "cell_type": "code",
   "execution_count": null,
   "id": "94b0eaf6",
   "metadata": {},
   "outputs": [],
   "source": [
    "\"\"\"kimlik operatörleri\n",
    "kimlik operatörleri ile değişkenlerin aynı nesne aynı olup olmadığı kontol edilir.Kimlik öperatörleri nesnelerin eşit \n",
    "olup olmadıklarını değil aslında aynı nesneye ve aynı bellek konumuna sahipse karşılaştırmak için kullanılır. \n",
    "True ve False değeri döner.\"\"\"\n",
    "#is\n",
    "#is not"
   ]
  },
  {
   "cell_type": "code",
   "execution_count": null,
   "id": "aa051800",
   "metadata": {},
   "outputs": [],
   "source": [
    "\"\"\" üyelik operatörleri\n",
    "dizi, liste, touple değişkenlerinde bir değerin var olup olmadığı kontrol edilir.\n",
    "True ve False değeri döner\n",
    "\"\"\"\n",
    "#in\n",
    "#not in"
   ]
  },
  {
   "cell_type": "code",
   "execution_count": 8,
   "id": "866d41ee",
   "metadata": {},
   "outputs": [
    {
     "data": {
      "text/plain": [
       "('3', 3, 3.0)"
      ]
     },
     "execution_count": 8,
     "metadata": {},
     "output_type": "execute_result"
    }
   ],
   "source": [
    "#değişkenlere veri türü vermeye gerek yok, değer atamasaın göre türü sonradan değişebilir\n",
    "#değişken tipi belirtilerek değer atanabilir\n",
    "x=str(3)\n",
    "y=int(3)\n",
    "z=float(3)\n",
    "x,y,z"
   ]
  },
  {
   "cell_type": "code",
   "execution_count": null,
   "id": "18abe9fe",
   "metadata": {},
   "outputs": [],
   "source": [
    "\"\"\"\n",
    "Değişken adları:\n",
    "- değişken adı bir harf veya alt çizgi karakteri ile başlamalıdır\n",
    "- değişken adı bir sayı ile başlayamaz\n",
    "- değişken adı yalnızca alfasayısal karakterler ve alt çizgiler içerebilir\n",
    "- değişken adları büyük küçük harfe duyarlıdır(yaş, Yaş ve YAŞ üç farklı değişkendir)\n",
    "\"\"\""
   ]
  },
  {
   "cell_type": "code",
   "execution_count": 9,
   "id": "c1568128",
   "metadata": {},
   "outputs": [
    {
     "data": {
      "text/plain": [
       "('5', 'Merhaba', 3.2)"
      ]
     },
     "execution_count": 9,
     "metadata": {},
     "output_type": "execute_result"
    }
   ],
   "source": [
    "#python bir satırda birden çok değer atamsına izin verir\n",
    "x,y,z=\"5\",\"Merhaba\",3.2\n",
    "x,y,z"
   ]
  },
  {
   "cell_type": "code",
   "execution_count": 11,
   "id": "88d79495",
   "metadata": {},
   "outputs": [
    {
     "data": {
      "text/plain": [
       "('5', '5', '5')"
      ]
     },
     "execution_count": 11,
     "metadata": {},
     "output_type": "execute_result"
    }
   ],
   "source": [
    "#bir satırda birden çok değişkene değer atamanıza izin verir\n",
    "x=y=z=\"5\"\n",
    "x,y,z"
   ]
  },
  {
   "cell_type": "code",
   "execution_count": 15,
   "id": "825d0199",
   "metadata": {},
   "outputs": [
    {
     "data": {
      "text/plain": [
       "(5, 'Merhaba', 3.2)"
      ]
     },
     "execution_count": 15,
     "metadata": {},
     "output_type": "execute_result"
    }
   ],
   "source": [
    "#python bir listedeki değerlerin değişkene atanmasına izin verir\n",
    "liste=[5,\"Merhaba\",3.2]\n",
    "x,y,z=liste\n",
    "x,y,z"
   ]
  },
  {
   "cell_type": "code",
   "execution_count": 21,
   "id": "b97fad50",
   "metadata": {},
   "outputs": [
    {
     "name": "stdout",
     "output_type": "stream",
     "text": [
      "Merhaba Dünya\n",
      "15\n"
     ]
    },
    {
     "data": {
      "text/plain": [
       "'\\nx=5\\ny=\"John\"\\nprint(x+y)\\n\\n'"
      ]
     },
     "execution_count": 21,
     "metadata": {},
     "output_type": "execute_result"
    }
   ],
   "source": [
    "# + işaretinin değişkenlerde kullanımı\n",
    "# birleştirme:\n",
    "x= \"Dünya\"\n",
    "print( \"Merhaba \" +x)\n",
    "x=\"Merhaba\"\n",
    "y=\" Dünya\"\n",
    "z=x+y\n",
    "z\n",
    "#Toplama\n",
    "x=5\n",
    "y=10\n",
    "print(x+y)\n",
    "#sayı ile stringin birleştirilmesinde hata verecektir\n",
    "\"\"\"\n",
    "x=5\n",
    "y=\"John\"\n",
    "print(x+y)\n",
    "\n",
    "\"\"\"\n"
   ]
  },
  {
   "cell_type": "code",
   "execution_count": 22,
   "id": "89851e27",
   "metadata": {},
   "outputs": [
    {
     "name": "stdout",
     "output_type": "stream",
     "text": [
      "Merhaba Dünya\n"
     ]
    }
   ],
   "source": [
    "# genel değişkenler\n",
    "# fonksiyon dışında oluşturulan değişkenler global değişkenlerdir,  hem fonksiyon hem fonksiyon dışında kullanılabilir\n",
    "x=\"Dünya\"\n",
    "def myFunc():\n",
    "    print(\"Merhaba \"+x)\n",
    "myFunc()"
   ]
  },
  {
   "cell_type": "code",
   "execution_count": 23,
   "id": "4593fe77",
   "metadata": {},
   "outputs": [
    {
     "name": "stdout",
     "output_type": "stream",
     "text": [
      "Merhaba Konya\n",
      "Merhaba Dünya\n"
     ]
    }
   ],
   "source": [
    "def myFunc():\n",
    "    x=\"Konya\"\n",
    "    print(\"Merhaba \"+x)\n",
    "myFunc()\n",
    "print(\"Merhaba \"+x)\n",
    "# bir fonksiyon içerisinde global değişken oluşturmak için global kelimesi kullanılır"
   ]
  },
  {
   "cell_type": "code",
   "execution_count": null,
   "id": "2368a19e",
   "metadata": {},
   "outputs": [],
   "source": [
    "#veri tipleri\n",
    "list=[\"apple\",\"banana\",\"pineapple\"] #list=list((\"apple\",\"banana\",pineapple))\n",
    "tuple=(\"apple\",\"orange\",\"potato\")\n",
    "#range 0-5 değer üretiyor \n",
    "x=range(6)\n",
    "bytes=b\"Hello\"\n",
    "bytearray=bytearray(5)\n",
    "x=memoryview(bytes(5))"
   ]
  },
  {
   "cell_type": "code",
   "execution_count": 1,
   "id": "0a0269d3",
   "metadata": {},
   "outputs": [
    {
     "name": "stdout",
     "output_type": "stream",
     "text": [
      "M\n",
      "e\n",
      "r\n",
      "h\n",
      "a\n",
      "b\n",
      "a\n"
     ]
    }
   ],
   "source": [
    "#string veri tipleri\n",
    "#üç tırnak kullanarak bir değişkene çok satırlı bir bir string atanabilir\n",
    "#bir stringde belirli bir kelime öbeği veya karakterin olduğunu kontrol etmek için in, olmadığını kontrol etmekiçin not in kullanabiliriz\n",
    "#stringler karakter dizisi for ile döngü yapılabilir\n",
    "for x in\"Merhaba\":\n",
    "    print(x)"
   ]
  },
  {
   "cell_type": "code",
   "execution_count": 3,
   "id": "a25f5559",
   "metadata": {},
   "outputs": [
    {
     "name": "stdout",
     "output_type": "stream",
     "text": [
      "rha\n",
      "Merha\n",
      "rhaba Dünya\n",
      "raaDna\n",
      "aynüD abahreM\n",
      "Dün\n"
     ]
    }
   ],
   "source": [
    "#Stringler Dilimleme\n",
    "x=\"Merhaba Dünya\"\n",
    "print(x[2:5]) #2.konumdan 5.konuma (dahil değil) kadar olan karakterleri alır\n",
    "print(x[:5]) # başlangıçtan 5.konumdan (dahil değil) kadar olan karakterleri alır\n",
    "print(x[2:]) # karakterleri 2.konumdan sonuna kadar alır\n",
    "print(x[2::2]) # karakterleri 2.konumdan sonuna kadar 2 atlayarak alır\n",
    "print(x[::-1]) # karakterleri sondan başlayarak en başa kadar alır\n",
    "print(x[-5:-2])"
   ]
  },
  {
   "cell_type": "code",
   "execution_count": null,
   "id": "612a746f",
   "metadata": {},
   "outputs": [],
   "source": [
    "#stringi değiştirme\n",
    "#python, stringe'de kullanılacak  birçok metoda sahiptir\n",
    "print(x.strip()) # başlangıç veya sondaki boşlukları kaldırır"
   ]
  },
  {
   "cell_type": "code",
   "execution_count": null,
   "id": "b49d7478",
   "metadata": {},
   "outputs": [],
   "source": [
    "# string metodları\n",
    "\"\"\"\n",
    "capitalize() - converts the first character to upper case\n",
    "casefold()- converts string into lower case\n",
    "center()- returns a centered string\n",
    "count()-returns the number of times a specified value occurs in a string \n",
    "encode()-returns an encoded verion of the string\n",
    "endwith()-returns true if the string ends with the specified value\n",
    "expandtabs()-sets the tab size of the string\n",
    "find()-searches the string for a specified value and returns the position \n",
    "        of where it was found\n",
    "format()-formats specified values in a string\n",
    "format_map()- fromats specified value in a string\n",
    "index()-searches the string for a specified value and returns the position of where it was found\n",
    "isalnum()returns true if all characters in the string are alphanumeric\n",
    "isalpha()-returns true if all characters in the string are in the alphabet\n",
    "isdecimal()-returns true if all characters in the string are decimals\n",
    "isdigit()-returns true if all characters in the string are digits\n",
    "isdentifier()_returns true if the string is an identifier\n",
    "islower()-returns true if all characters in the string are lower case\n",
    "isnumeric()-returns true if all characters in the string are numeric\n",
    "isprintable()-returns true if all characters in the string are printable\n",
    "isspace()-returns true if all characters in the string are whitespaces\n",
    "istitle()-returns true if the string follows the rules of a title\n",
    "join()-joins the elements of an iterable to the end of the string\n",
    "ljust()-returns a left justified version of the string \n",
    "maketrans()-returns a translaton table to be used in translations\n",
    "partition()-returns a tuple where the string is parted into three parts\n",
    "rfind()-searches the string for a specified value and returns the last position\n",
    "        of where it was found\n",
    "    !!!bitmedi\n",
    "\n",
    "\"\"\""
   ]
  },
  {
   "cell_type": "code",
   "execution_count": null,
   "id": "ce48a765",
   "metadata": {},
   "outputs": [],
   "source": [
    "# aşağıdakiler false döndürür\n",
    "\"\"\"\n",
    "print(bool(false))\n",
    "print(bool(none))\n",
    "print(bool(0))\n",
    "print(bool(\"\"))\n",
    "print(bool(()))\n",
    "print(bool([])\n",
    "print(bool({}))\n",
    "\"\"\""
   ]
  },
  {
   "cell_type": "code",
   "execution_count": null,
   "id": "7e89df0e",
   "metadata": {},
   "outputs": [],
   "source": [
    "### python koleksiyonları\n",
    "\"\"\"\n",
    "list--sıralı ve değiştirilebilir bir koleksiyondur. Yinelenen üyelere izin verir\n",
    "tuple--sıralı ve değişmez bir koleksiyondur. Yinelenen üyelere izin verir\n",
    "set--sırasız, değiştirilemez ve indekslenmemiş bir koleksiyondur. Çift üye yok\n",
    "dictionary--sıralı ve değiştirlebilir bir koleksiyondur. Çift üye yok\n",
    "\"\"\""
   ]
  }
 ],
 "metadata": {
  "kernelspec": {
   "display_name": "Python 3 (ipykernel)",
   "language": "python",
   "name": "python3"
  },
  "language_info": {
   "codemirror_mode": {
    "name": "ipython",
    "version": 3
   },
   "file_extension": ".py",
   "mimetype": "text/x-python",
   "name": "python",
   "nbconvert_exporter": "python",
   "pygments_lexer": "ipython3",
   "version": "3.9.7"
  }
 },
 "nbformat": 4,
 "nbformat_minor": 5
}

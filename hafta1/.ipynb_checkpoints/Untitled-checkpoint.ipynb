{
 "cells": [
  {
   "cell_type": "code",
   "execution_count": 6,
   "id": "c84fb271",
   "metadata": {},
   "outputs": [
    {
     "data": {
      "text/plain": [
       "False"
      ]
     },
     "execution_count": 6,
     "metadata": {},
     "output_type": "execute_result"
    }
   ],
   "source": [
    "#mantıksal operatörler\n",
    "(3<5)and(5>4)\n",
    "(3==3)or(3>5)\n",
    "not(3==3)"
   ]
  },
  {
   "cell_type": "code",
   "execution_count": null,
   "id": "94b0eaf6",
   "metadata": {},
   "outputs": [],
   "source": [
    "#kimlik operatörleri\n",
    "#kimlik operaörleri ile değişkenlerin aynı nesne aynı olup olmadığıontol edilir.Kimlik öperatörleri nesnelerin eşit olup olmadıklarını değil\n",
    "#aslında aynı nesneye ve aynı bellek konumuna sahipse karşılaştırmak için kullanılır. True ve False değeri döner.\n",
    "#is\n",
    "#is not"
   ]
  },
  {
   "cell_type": "code",
   "execution_count": null,
   "id": "aa051800",
   "metadata": {},
   "outputs": [],
   "source": [
    "#üyelik operatörleri\n",
    "#dizi, liste, touple değişkenlerinde bir değerin var olup olmadığı kontrol edilir. \n",
    "#True ve False değeri döner\n",
    "#in\n",
    "#not in"
   ]
  },
  {
   "cell_type": "code",
   "execution_count": null,
   "id": "3e5c258e",
   "metadata": {},
   "outputs": [],
   "source": [
    "#bit(bitwise) operatörleri"
   ]
  },
  {
   "cell_type": "code",
   "execution_count": null,
   "id": "9bb7e756",
   "metadata": {},
   "outputs": [],
   "source": [
    "\"\"\"\n",
    "çoklu yorum satırı yazmak\n",
    "\"\"\""
   ]
  },
  {
   "cell_type": "code",
   "execution_count": 8,
   "id": "866d41ee",
   "metadata": {},
   "outputs": [
    {
     "data": {
      "text/plain": [
       "('3', 3, 3.0)"
      ]
     },
     "execution_count": 8,
     "metadata": {},
     "output_type": "execute_result"
    }
   ],
   "source": [
    "#değişkenlere veri türü vermeye gerek yok, değer atamasaın göre türü sonradan değişebilir\n",
    "#değişken tipi belirtilerek değer atanabilir\n",
    "x=str(3)\n",
    "y=int(3)\n",
    "z=float(3)\n",
    "x,y,z"
   ]
  },
  {
   "cell_type": "code",
   "execution_count": null,
   "id": "18abe9fe",
   "metadata": {},
   "outputs": [],
   "source": [
    "\"\"\"\n",
    "Değişken adları:\n",
    "- değişken adı bir harf veya alt çizgi karakteri ile başlamalıdır\n",
    "- değişken adı bir sayı ile başlayamaz\n",
    "- değişken adı yalnızca alfasayısal karakterler ve alt çizgiler içerebilir\n",
    "- değişken adları büyük küçük harfe duyarlıdır(yaş, Yaş ve YAŞ üç farklı değişkendir)\n",
    "\"\"\""
   ]
  },
  {
   "cell_type": "code",
   "execution_count": 9,
   "id": "c1568128",
   "metadata": {},
   "outputs": [
    {
     "data": {
      "text/plain": [
       "('5', 'Merhaba', 3.2)"
      ]
     },
     "execution_count": 9,
     "metadata": {},
     "output_type": "execute_result"
    }
   ],
   "source": [
    "#python bir satırda birden çok değer atamsına izin verir\n",
    "x,y,z=\"5\",\"Merhaba\",3.2\n",
    "x,y,z"
   ]
  },
  {
   "cell_type": "code",
   "execution_count": 11,
   "id": "88d79495",
   "metadata": {},
   "outputs": [
    {
     "data": {
      "text/plain": [
       "('5', '5', '5')"
      ]
     },
     "execution_count": 11,
     "metadata": {},
     "output_type": "execute_result"
    }
   ],
   "source": [
    "#bir satırda birden çok değişkene değer atamanıza izin verir\n",
    "x=y=z=\"5\"\n",
    "x,y,z"
   ]
  },
  {
   "cell_type": "code",
   "execution_count": 15,
   "id": "825d0199",
   "metadata": {},
   "outputs": [
    {
     "data": {
      "text/plain": [
       "(5, 'Merhaba', 3.2)"
      ]
     },
     "execution_count": 15,
     "metadata": {},
     "output_type": "execute_result"
    }
   ],
   "source": [
    "#python bir listedeki değerlerin değişkene atanmasına izin veriri\n",
    "liste=[5,\"Merhaba\",3.2]\n",
    "x,y,z=liste\n",
    "x,y,z"
   ]
  },
  {
   "cell_type": "code",
   "execution_count": 21,
   "id": "b97fad50",
   "metadata": {},
   "outputs": [
    {
     "name": "stdout",
     "output_type": "stream",
     "text": [
      "Merhaba Dünya\n",
      "15\n"
     ]
    },
    {
     "data": {
      "text/plain": [
       "'\\nx=5\\ny=\"John\"\\nprint(x+y)\\n\\n'"
      ]
     },
     "execution_count": 21,
     "metadata": {},
     "output_type": "execute_result"
    }
   ],
   "source": [
    "# + işaretinin değişkenlerde kullanımı\n",
    "# birleştirme:\n",
    "x= \"Dünya\"\n",
    "print( \"Merhaba \" +x)\n",
    "x=\"Merhaba\"\n",
    "y=\" Dünya\"\n",
    "z=x+y\n",
    "z\n",
    "#Toplama\n",
    "x=5\n",
    "y=10\n",
    "print(x+y)\n",
    "#sayı ile stringin birleştirilmesinde hata verecektir\n",
    "\"\"\"\n",
    "x=5\n",
    "y=\"John\"\n",
    "print(x+y)\n",
    "\n",
    "\"\"\"\n"
   ]
  },
  {
   "cell_type": "code",
   "execution_count": 22,
   "id": "89851e27",
   "metadata": {},
   "outputs": [
    {
     "name": "stdout",
     "output_type": "stream",
     "text": [
      "Merhaba Dünya\n"
     ]
    }
   ],
   "source": [
    "# genel değişkenler\n",
    "# fonksiyon dışında oluşturulan değişkenler global değişkenlerdir,  hem fonksiyon hem fonksiyon dışında kullanılabilir\n",
    "x=\"Dünya\"\n",
    "def myFunc():\n",
    "    print(\"Merhaba \"+x)\n",
    "myFunc()"
   ]
  },
  {
   "cell_type": "code",
   "execution_count": 23,
   "id": "4593fe77",
   "metadata": {},
   "outputs": [
    {
     "name": "stdout",
     "output_type": "stream",
     "text": [
      "Merhaba Konya\n",
      "Merhaba Dünya\n"
     ]
    }
   ],
   "source": [
    "def myFunc():\n",
    "    x=\"Konya\"\n",
    "    print(\"Merhaba \"+x)\n",
    "myFunc()\n",
    "print(\"Merhaba \"+x)\n",
    "# bir fonksiyon içerisinde global değişken oluşturmak için global kelimesi kullanılır"
   ]
  },
  {
   "cell_type": "code",
   "execution_count": null,
   "id": "2368a19e",
   "metadata": {},
   "outputs": [],
   "source": []
  }
 ],
 "metadata": {
  "kernelspec": {
   "display_name": "Python 3 (ipykernel)",
   "language": "python",
   "name": "python3"
  },
  "language_info": {
   "codemirror_mode": {
    "name": "ipython",
    "version": 3
   },
   "file_extension": ".py",
   "mimetype": "text/x-python",
   "name": "python",
   "nbconvert_exporter": "python",
   "pygments_lexer": "ipython3",
   "version": "3.9.7"
  }
 },
 "nbformat": 4,
 "nbformat_minor": 5
}

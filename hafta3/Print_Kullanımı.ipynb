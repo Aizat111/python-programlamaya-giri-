{
 "cells": [
  {
   "cell_type": "code",
   "execution_count": 1,
   "id": "219ab227",
   "metadata": {},
   "outputs": [
    {
     "name": "stdout",
     "output_type": "stream",
     "text": [
      "hellooo\n",
      "helloo\n",
      "Hellooo\n",
      "5\n"
     ]
    }
   ],
   "source": [
    "# print kullanımı\n",
    "# ifadeler tırnak içine yazılır. Tek tırnak, çift tırnak veya üç tırnak kullanılabilir.\n",
    "print(\"hellooo\")\n",
    "print('helloo')\n",
    "print(\"\"\"Hellooo\"\"\")\n",
    "# sayısal değerler tırnak kullanılmadan da yazılabilir\n",
    "print(5)"
   ]
  },
  {
   "cell_type": "code",
   "execution_count": null,
   "id": "9bf5f288",
   "metadata": {},
   "outputs": [],
   "source": [
    "# string ve sayısal ifadeler + ile birleştirilemezler "
   ]
  },
  {
   "cell_type": "code",
   "execution_count": 2,
   "id": "ce3a106f",
   "metadata": {},
   "outputs": [
    {
     "name": "stdout",
     "output_type": "stream",
     "text": [
      "Konya 42 True\n"
     ]
    }
   ],
   "source": [
    "# birden fazla değeri yazdırmak için aralarında virgül kullanılır. Aralarında birer boşluk olcak şekilde yazar.\n",
    "print(\"Konya\",42,True)"
   ]
  },
  {
   "cell_type": "code",
   "execution_count": 3,
   "id": "a7a59f05",
   "metadata": {},
   "outputs": [
    {
     "name": "stdout",
     "output_type": "stream",
     "text": [
      "Konya***42***True\n"
     ]
    }
   ],
   "source": [
    "#sep parametresi ile \",\"ile verilmiş ifadelerin arasına istenilen ekleebilir.\n",
    "print(\"Konya\",42,True,sep=\"***\")"
   ]
  },
  {
   "cell_type": "code",
   "execution_count": 4,
   "id": "0c552226",
   "metadata": {},
   "outputs": [
    {
     "name": "stdout",
     "output_type": "stream",
     "text": [
      "K o n y a\n"
     ]
    }
   ],
   "source": [
    "# * parametresi, string değerler önünde kullanılır ve string karakterler aralarında boşluk olacak şekilde yazdırılır.\n",
    "print(*\"Konya\")"
   ]
  },
  {
   "cell_type": "code",
   "execution_count": 7,
   "id": "36a063f3",
   "metadata": {},
   "outputs": [
    {
     "name": "stdout",
     "output_type": "stream",
     "text": [
      "hello world\n"
     ]
    }
   ],
   "source": [
    "# end parametresi ile yazdırma işlemine sonra imlecin yeri belirlenebilir.\n",
    "a=\"hello\"\n",
    "b=\"world\"\n",
    "print(a, end=\" \")\n",
    "print(b)"
   ]
  },
  {
   "cell_type": "code",
   "execution_count": 8,
   "id": "62fbf701",
   "metadata": {},
   "outputs": [
    {
     "name": "stdout",
     "output_type": "stream",
     "text": [
      "İki sayının toplamı 3+5=8\n"
     ]
    }
   ],
   "source": [
    "# değişkenlerin değerleri bir string ifade içerisinde yazdırılabilir\n",
    "print(\"İki sayının toplamı {}+{}={}\".format(3,5,3+5))\n",
    "# .format kullanımında, formattaki değerler istenirse numarasına göre metin içinde kullanılabilir"
   ]
  },
  {
   "cell_type": "code",
   "execution_count": 1,
   "id": "daa52b55",
   "metadata": {},
   "outputs": [
    {
     "name": "stdout",
     "output_type": "stream",
     "text": [
      " iki sayının toplamı 5+3=8\n"
     ]
    }
   ],
   "source": [
    "print (\" iki sayının toplamı {1}+{0}={2}\".format(3,5,3+5))"
   ]
  },
  {
   "cell_type": "code",
   "execution_count": 13,
   "id": "63d77a68",
   "metadata": {},
   "outputs": [
    {
     "name": "stdout",
     "output_type": "stream",
     "text": [
      "3.143456789 pi sayısı\n",
      "3.143457 pi sayısı\n",
      "3.14\n",
      "       3.143457 pi sayısı\n",
      "00000003.143457 pi sayısı\n",
      "    3.143456789 pi sayısı\n",
      "Konya           Teknik\n",
      "Konya           Teknik\n",
      "          Konya Teknik\n",
      "  3.143456789   pi sayısı\n",
      "Kon             Teknik\n",
      "           3.14 pi sayısı\n"
     ]
    }
   ],
   "source": [
    "# format değerler farklı formatlarda kullanılabilir\n",
    "print(\"{} pi sayısı\".format(3.143456789)) # normal yazar\n",
    "print(\"{:f} pi sayısı\".format(3.143456789)) #ondalık kısmı 6 hane yazılır\n",
    "print(\"{:.2f}\".format(3.143456789)) #ondalık kısmı 2 hane yazılır\n",
    "print(\"{:15f} pi sayısı\".format(3.143456789)) #15 hane yer ayırılır 6 hane yazar\n",
    "print(\"{:015f} pi sayısı\".format(3.143456789)) # 15 hane yer ayırılır soluna 0'lar yazar\n",
    "print(\"{:15} pi sayısı\".format(3.143456789)) #15 hane yer ayırılır normal yazar\n",
    "print(\"{:15} Teknik\".format(\"Konya\")) #15 hane yer ayırır sola yazar\n",
    "print(\"{:<15} Teknik\".format(\"Konya\")) #15 hane yer ayırır sola yazar\n",
    "print(\"{:>15} Teknik\".format(\"Konya\")) #15 hane yer ayırır sağa yazar\n",
    "print(\"{:^15} pi sayısı\". format(3.143456789)) #15 hane yer ayırır ortaya yazdırır\n",
    "print(\"{:15.3} Teknik\".format(\"Konya\")) #15 hane yer ayırır 3 karakter yazar\n",
    "print(\"{:15.3} pi sayısı\".format(3.143456789)) #15 hane yer ayırır 3 karakter yazar\n",
    "\n"
   ]
  },
  {
   "cell_type": "code",
   "execution_count": 17,
   "id": "861d7868",
   "metadata": {},
   "outputs": [
    {
     "name": "stdout",
     "output_type": "stream",
     "text": [
      "          Konya Teknik\n"
     ]
    }
   ],
   "source": [
    "#.format işleminde uzun kullanım\n",
    "print(\"{:{align}{width}} Teknik\".format(\"Konya\",align=\">\",width=\"15\"))"
   ]
  },
  {
   "cell_type": "code",
   "execution_count": 18,
   "id": "fcc4f0d6",
   "metadata": {},
   "outputs": [
    {
     "name": "stdout",
     "output_type": "stream",
     "text": [
      "1 2\n",
      "1 2\n"
     ]
    }
   ],
   "source": [
    "# sözlük veri tipinde .format kullan örneği:\n",
    "sozluk={\"bir\":1,\"iki\":2}\n",
    "print(\"{bir} {iki}\".format(**sozluk))\n",
    "print(\"{x[bir]} {x[iki]}\".format(x=sozluk))"
   ]
  },
  {
   "cell_type": "code",
   "execution_count": null,
   "id": "58e16b85",
   "metadata": {},
   "outputs": [],
   "source": []
  }
 ],
 "metadata": {
  "kernelspec": {
   "display_name": "Python 3 (ipykernel)",
   "language": "python",
   "name": "python3"
  },
  "language_info": {
   "codemirror_mode": {
    "name": "ipython",
    "version": 3
   },
   "file_extension": ".py",
   "mimetype": "text/x-python",
   "name": "python",
   "nbconvert_exporter": "python",
   "pygments_lexer": "ipython3",
   "version": "3.9.7"
  }
 },
 "nbformat": 4,
 "nbformat_minor": 5
}

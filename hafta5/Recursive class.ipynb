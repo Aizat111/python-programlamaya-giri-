{
 "cells": [
  {
   "cell_type": "code",
   "execution_count": 4,
   "id": "ddb07e8b",
   "metadata": {},
   "outputs": [],
   "source": [
    "class giriş:\n",
    "    def __init__(self,mesaj=\"Müşteri numaranız:\"):\n",
    "        cevap=input(mesaj)\n",
    "        print(\"Hoşgeldiniz\")\n",
    "    @classmethod\n",
    "    def parola(cls):\n",
    "        mesaj=\"Parolanız : \"\n",
    "        cls(mesaj)\n"
   ]
  },
  {
   "cell_type": "code",
   "execution_count": 5,
   "id": "6691a4cd",
   "metadata": {},
   "outputs": [
    {
     "name": "stdout",
     "output_type": "stream",
     "text": [
      "Parolanız : 123\n",
      "Hoşgeldiniz\n"
     ]
    }
   ],
   "source": [
    "giriş.parola()"
   ]
  },
  {
   "cell_type": "code",
   "execution_count": 6,
   "id": "c838891d",
   "metadata": {},
   "outputs": [
    {
     "name": "stdout",
     "output_type": "stream",
     "text": [
      "Müşteri numaranız:34\n",
      "Hoşgeldiniz\n"
     ]
    }
   ],
   "source": [
    "a=giriş()"
   ]
  },
  {
   "cell_type": "code",
   "execution_count": null,
   "id": "e75efea7",
   "metadata": {},
   "outputs": [],
   "source": []
  }
 ],
 "metadata": {
  "kernelspec": {
   "display_name": "Python 3 (ipykernel)",
   "language": "python",
   "name": "python3"
  },
  "language_info": {
   "codemirror_mode": {
    "name": "ipython",
    "version": 3
   },
   "file_extension": ".py",
   "mimetype": "text/x-python",
   "name": "python",
   "nbconvert_exporter": "python",
   "pygments_lexer": "ipython3",
   "version": "3.9.7"
  }
 },
 "nbformat": 4,
 "nbformat_minor": 5
}

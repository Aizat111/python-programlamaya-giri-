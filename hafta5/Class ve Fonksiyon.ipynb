{
 "cells": [
  {
   "cell_type": "code",
   "execution_count": 2,
   "id": "fdfc757b",
   "metadata": {},
   "outputs": [],
   "source": [
    "# fonksiyon oluştururken () koymayı unutmamalıyız\n",
    "def Sınıf():\n",
    "    print(\"konya\")"
   ]
  },
  {
   "cell_type": "code",
   "execution_count": 1,
   "id": "0e22f6db",
   "metadata": {},
   "outputs": [
    {
     "name": "stdout",
     "output_type": "stream",
     "text": [
      "Konya\n"
     ]
    }
   ],
   "source": [
    "#class oluştuturken () koyup koymamamız fark etmez\n",
    "class Sınıf:\n",
    "    print(\"Konya\")"
   ]
  },
  {
   "cell_type": "code",
   "execution_count": null,
   "id": "dc89eabe",
   "metadata": {},
   "outputs": [],
   "source": [
    "# fonksiyonun çalışması için çağrılıması lazım\n",
    "# classlar çağırmazsak da sırayla çalışmaya başlarlar"
   ]
  },
  {
   "cell_type": "code",
   "execution_count": 2,
   "id": "5932361f",
   "metadata": {},
   "outputs": [],
   "source": [
    "class Sinif():\n",
    "    kelime=\"python\"\n",
    "    sayi=50\n",
    "    list=[1,2,3,4]"
   ]
  },
  {
   "cell_type": "code",
   "execution_count": null,
   "id": "93bb053f",
   "metadata": {},
   "outputs": [],
   "source": [
    "#sinifta değeri değişmeyenler:\n",
    "\"\"\"\n",
    "alfasyaısal\n",
    "sayısal\n",
    "boolean\n",
    "demet\n",
    "\"\"\"\n",
    "# sınıfta değeri atama değerine göre değişenler\n",
    "\"\"\"\n",
    "liste\n",
    "küme\n",
    "sözlük\n",
    "\"\"\""
   ]
  },
  {
   "cell_type": "code",
   "execution_count": null,
   "id": "bd5cc73a",
   "metadata": {},
   "outputs": [],
   "source": [
    "# yukarıdaki değişen veri tiplerine ait fonksiyonları uyguladığımızda sınıfat da değişiklik olu\n"
   ]
  },
  {
   "cell_type": "code",
   "execution_count": 6,
   "id": "e7a2d072",
   "metadata": {},
   "outputs": [
    {
     "name": "stdout",
     "output_type": "stream",
     "text": [
      "pu\n",
      "[1, 2, 3, 4, 7]\n"
     ]
    }
   ],
   "source": [
    "a=Sinif()\n",
    "a.kelime=\"pu\"\n",
    "print(a.kelime)\n",
    " # direkt değer ataması yapınca değişmiyor\n",
    "a.list.append(7)\n",
    "print(a.list)\n",
    "# nesnede değiştirdiğimiz değerler sadece o nesne için geçerlidir"
   ]
  },
  {
   "cell_type": "code",
   "execution_count": 7,
   "id": "0f746651",
   "metadata": {},
   "outputs": [
    {
     "name": "stdout",
     "output_type": "stream",
     "text": [
      "python\n",
      "[1, 2, 3, 4, 7]\n"
     ]
    }
   ],
   "source": [
    "print(Sinif.kelime)\n",
    "print(Sinif.list)"
   ]
  },
  {
   "cell_type": "code",
   "execution_count": null,
   "id": "61071fb5",
   "metadata": {},
   "outputs": [],
   "source": []
  }
 ],
 "metadata": {
  "kernelspec": {
   "display_name": "Python 3 (ipykernel)",
   "language": "python",
   "name": "python3"
  },
  "language_info": {
   "codemirror_mode": {
    "name": "ipython",
    "version": 3
   },
   "file_extension": ".py",
   "mimetype": "text/x-python",
   "name": "python",
   "nbconvert_exporter": "python",
   "pygments_lexer": "ipython3",
   "version": "3.9.7"
  }
 },
 "nbformat": 4,
 "nbformat_minor": 5
}

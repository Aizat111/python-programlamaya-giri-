{
 "cells": [
  {
   "cell_type": "code",
   "execution_count": null,
   "id": "70b2d529",
   "metadata": {},
   "outputs": [],
   "source": [
    "sesli_harfler='aeıioöuü'\n",
    "sayac=0\n",
    "def kelime_sor():\n",
    "    return input(\"Bir kelime girin: \")\n",
    "def seslidir(harf):\n",
    "    return harf in sesli_harfler\n",
    "def adet(kelime):\n",
    "    global sayac\n",
    "    for harf in kelime:\n",
    "        if seslidir(harf):\n",
    "            sayac+=1\n",
    "    return sayac\n",
    "def ekrana_bas(kelime):\n",
    "    mesaj='{} kelimesinde {} adet sesli harf var'\n",
    "    print(mesaj.format(kelime,adet(kelime)))\n",
    "            \n",
    "def calistir():\n",
    "    kelime=kelime_sor()\n",
    "    ekrana_bas(kelime)\n",
    "calistir()"
   ]
  },
  {
   "cell_type": "code",
   "execution_count": null,
   "id": "a0e88c4e",
   "metadata": {},
   "outputs": [],
   "source": []
  },
  {
   "cell_type": "code",
   "execution_count": null,
   "id": "10ca4835",
   "metadata": {},
   "outputs": [],
   "source": []
  }
 ],
 "metadata": {
  "kernelspec": {
   "display_name": "Python 3 (ipykernel)",
   "language": "python",
   "name": "python3"
  },
  "language_info": {
   "codemirror_mode": {
    "name": "ipython",
    "version": 3
   },
   "file_extension": ".py",
   "mimetype": "text/x-python",
   "name": "python",
   "nbconvert_exporter": "python",
   "pygments_lexer": "ipython3",
   "version": "3.9.7"
  }
 },
 "nbformat": 4,
 "nbformat_minor": 5
}

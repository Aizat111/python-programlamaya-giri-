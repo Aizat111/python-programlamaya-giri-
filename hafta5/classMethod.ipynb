{
 "cells": [
  {
   "cell_type": "code",
   "execution_count": 10,
   "id": "1b5a0b20",
   "metadata": {},
   "outputs": [],
   "source": [
    "class Kisi:\n",
    "    kisiler=[]\n",
    "    def __init__(self,isim):\n",
    "        self.isim=isim\n",
    "        self.ders=[]\n",
    "        self.kisi_ekle()\n",
    "    def kisi_ekle(self):\n",
    "        self.kisiler.append(self.isim)\n",
    "        print('{} adli kişi eklendi'.format(self.isim))\n",
    "    def kisi_goster(self):\n",
    "        print(\"Kişi Listesi\")\n",
    "        for kisi in self.kisiler:\n",
    "            print(kisi)\n",
    "    def ders_ekle(self,ders):\n",
    "        self.ders.append(ders)\n",
    "    def ders_goster(self):\n",
    "        print('{} adli kisinin dersleri'.format(self.isim))\n",
    "        for ders in self.ders:\n",
    "            print(ders)\n",
    "    @classmethod   # sınıf methodu için kullanılır\n",
    "    def kisi_goster2(cls): # sınıf metofuna parametre ismi\n",
    "        print('Kisi listesi')\n",
    "        for kisi in cls.kisiler:\n",
    "            print(kisi)"
   ]
  },
  {
   "cell_type": "code",
   "execution_count": 11,
   "id": "c41deb24",
   "metadata": {},
   "outputs": [
    {
     "name": "stdout",
     "output_type": "stream",
     "text": [
      "Aizat adli kişi eklendi\n",
      "Kişi Listesi\n",
      "Aizat\n",
      "Kisi listesi\n",
      "Aizat\n",
      "Kisi listesi\n",
      "Aizat\n",
      "Aizat adli kisinin dersleri\n",
      "math\n"
     ]
    }
   ],
   "source": [
    "a=Kisi(\"Aizat\")\n",
    "a.kisi_goster()\n",
    "a.kisi_goster2() #class metodunu aynı zamanda nesneden de çağırabiliriz\n",
    "Kisi.kisi_goster2() # class methodu olduğu için class ismiyle çağırabiliriz\n",
    "# ama nesne metodu class ismi ile çağırılamaz\n",
    "a.ders_ekle(\"math\")\n",
    "a.ders_goster()\n"
   ]
  },
  {
   "cell_type": "code",
   "execution_count": null,
   "id": "af7a8faa",
   "metadata": {},
   "outputs": [],
   "source": []
  }
 ],
 "metadata": {
  "kernelspec": {
   "display_name": "Python 3 (ipykernel)",
   "language": "python",
   "name": "python3"
  },
  "language_info": {
   "codemirror_mode": {
    "name": "ipython",
    "version": 3
   },
   "file_extension": ".py",
   "mimetype": "text/x-python",
   "name": "python",
   "nbconvert_exporter": "python",
   "pygments_lexer": "ipython3",
   "version": "3.9.7"
  }
 },
 "nbformat": 4,
 "nbformat_minor": 5
}

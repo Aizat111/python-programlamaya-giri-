{
 "cells": [
  {
   "cell_type": "code",
   "execution_count": 6,
   "id": "6cca5b54",
   "metadata": {},
   "outputs": [],
   "source": [
    "class Kisi:\n",
    "    kisiler=[]\n",
    "    def __init__(self,isim):\n",
    "        self.isim=isim\n",
    "        self.ders=[]\n",
    "        self.kisi_ekle()\n",
    "    def kisi_ekle(self):\n",
    "        self.kisiler.append(self.isim)\n",
    "        print('{} adli kişi eklendi'.format(self.isim))\n",
    "    def kisi_goster(self):\n",
    "        print(\"Kişi Listesi\")\n",
    "        for kisi in self.kisiler:\n",
    "            print(kisi)\n",
    "    def ders_ekle(self,ders):\n",
    "        self.ders.append(ders)\n",
    "    def ders_goster(self):\n",
    "        print('{} adli kisinin dersleri'.format(self.isim))\n",
    "        for ders in self.ders:\n",
    "            print(ders)\n",
    "    @classmethod   # sınıf methodu için kullanılır\n",
    "    def kisi_goster2(cls): # sınıf metofuna parametre ismi\n",
    "        print('Kisi listesi')\n",
    "        for kisi in cls.kisiler:\n",
    "            print(kisi)"
   ]
  },
  {
   "cell_type": "code",
   "execution_count": 9,
   "id": "9ad4c558",
   "metadata": {},
   "outputs": [
    {
     "name": "stdout",
     "output_type": "stream",
     "text": [
      "Aizat adli kişi eklendi\n",
      "Kişi Listesi\n",
      "Aizat\n",
      "Aizat\n",
      "Aizat\n",
      "Kisi listesi\n",
      "Aizat\n",
      "Aizat\n",
      "Aizat\n",
      "Kisi listesi\n",
      "Aizat\n",
      "Aizat\n",
      "Aizat\n"
     ]
    },
    {
     "ename": "AttributeError",
     "evalue": "'Kisi' object has no attribute 'kisi'",
     "output_type": "error",
     "traceback": [
      "\u001b[0;31m---------------------------------------------------------------------------\u001b[0m",
      "\u001b[0;31mAttributeError\u001b[0m                            Traceback (most recent call last)",
      "\u001b[0;32m/var/folders/kp/6q57p5qj75v7krbh1nrb36gm0000gn/T/ipykernel_2946/277993875.py\u001b[0m in \u001b[0;36m<module>\u001b[0;34m\u001b[0m\n\u001b[1;32m      5\u001b[0m \u001b[0;31m# ama nesne metodu class ismi ile çağırılamaz\u001b[0m\u001b[0;34m\u001b[0m\u001b[0;34m\u001b[0m\u001b[0m\n\u001b[1;32m      6\u001b[0m \u001b[0ma\u001b[0m\u001b[0;34m.\u001b[0m\u001b[0mders_ekle\u001b[0m\u001b[0;34m(\u001b[0m\u001b[0;34m\"math\"\u001b[0m\u001b[0;34m)\u001b[0m\u001b[0;34m\u001b[0m\u001b[0;34m\u001b[0m\u001b[0m\n\u001b[0;32m----> 7\u001b[0;31m \u001b[0ma\u001b[0m\u001b[0;34m.\u001b[0m\u001b[0mders_goster\u001b[0m\u001b[0;34m(\u001b[0m\u001b[0;34m)\u001b[0m\u001b[0;34m\u001b[0m\u001b[0;34m\u001b[0m\u001b[0m\n\u001b[0m",
      "\u001b[0;32m/var/folders/kp/6q57p5qj75v7krbh1nrb36gm0000gn/T/ipykernel_2946/2343586020.py\u001b[0m in \u001b[0;36mders_goster\u001b[0;34m(self)\u001b[0m\n\u001b[1;32m     15\u001b[0m         \u001b[0mself\u001b[0m\u001b[0;34m.\u001b[0m\u001b[0mders\u001b[0m\u001b[0;34m.\u001b[0m\u001b[0mappend\u001b[0m\u001b[0;34m(\u001b[0m\u001b[0mders\u001b[0m\u001b[0;34m)\u001b[0m\u001b[0;34m\u001b[0m\u001b[0;34m\u001b[0m\u001b[0m\n\u001b[1;32m     16\u001b[0m     \u001b[0;32mdef\u001b[0m \u001b[0mders_goster\u001b[0m\u001b[0;34m(\u001b[0m\u001b[0mself\u001b[0m\u001b[0;34m)\u001b[0m\u001b[0;34m:\u001b[0m\u001b[0;34m\u001b[0m\u001b[0;34m\u001b[0m\u001b[0m\n\u001b[0;32m---> 17\u001b[0;31m         \u001b[0mprint\u001b[0m\u001b[0;34m(\u001b[0m\u001b[0;34m'{} adli kisinin dersleri'\u001b[0m\u001b[0;34m.\u001b[0m\u001b[0mformat\u001b[0m\u001b[0;34m(\u001b[0m\u001b[0mself\u001b[0m\u001b[0;34m.\u001b[0m\u001b[0mkisi\u001b[0m\u001b[0;34m)\u001b[0m\u001b[0;34m)\u001b[0m\u001b[0;34m\u001b[0m\u001b[0;34m\u001b[0m\u001b[0m\n\u001b[0m\u001b[1;32m     18\u001b[0m         \u001b[0;32mfor\u001b[0m \u001b[0mders\u001b[0m \u001b[0;32min\u001b[0m \u001b[0mself\u001b[0m\u001b[0;34m.\u001b[0m\u001b[0mders\u001b[0m\u001b[0;34m:\u001b[0m\u001b[0;34m\u001b[0m\u001b[0;34m\u001b[0m\u001b[0m\n\u001b[1;32m     19\u001b[0m             \u001b[0mprint\u001b[0m\u001b[0;34m(\u001b[0m\u001b[0mders\u001b[0m\u001b[0;34m)\u001b[0m\u001b[0;34m\u001b[0m\u001b[0;34m\u001b[0m\u001b[0m\n",
      "\u001b[0;31mAttributeError\u001b[0m: 'Kisi' object has no attribute 'kisi'"
     ]
    }
   ],
   "source": [
    "a=Kisi(\"Aizat\")\n",
    "a.kisi_goster()\n",
    "a.kisi_goster2() #class metodunu aynı zamanda nesneden de çağırabiliriz\n",
    "Kisi.kisi_goster2() # class methodu olduğu için class ismiyle çağırabiliriz\n",
    "# ama nesne metodu class ismi ile çağırılamaz\n",
    "a.ders_ekle(\"math\")\n",
    "a.ders_goster()\n"
   ]
  },
  {
   "cell_type": "code",
   "execution_count": null,
   "id": "714594dc",
   "metadata": {},
   "outputs": [],
   "source": []
  }
 ],
 "metadata": {
  "kernelspec": {
   "display_name": "Python 3 (ipykernel)",
   "language": "python",
   "name": "python3"
  },
  "language_info": {
   "codemirror_mode": {
    "name": "ipython",
    "version": 3
   },
   "file_extension": ".py",
   "mimetype": "text/x-python",
   "name": "python",
   "nbconvert_exporter": "python",
   "pygments_lexer": "ipython3",
   "version": "3.9.7"
  }
 },
 "nbformat": 4,
 "nbformat_minor": 5
}

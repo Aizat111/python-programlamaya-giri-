{
 "cells": [
  {
   "cell_type": "code",
   "execution_count": null,
   "id": "f637bca1",
   "metadata": {},
   "outputs": [],
   "source": [
    "\"\"\"\n",
    "sınıf içerisinde tanımlanan normal fonksiyonlar yani nesne ile alakası olmayan fonksiyonlar statik\n",
    "fonksiyonlardır. Bunların üst kısmına @staticmethod yazılır. Ama mecburi değildir.\n",
    "\"\"\""
   ]
  },
  {
   "cell_type": "code",
   "execution_count": 2,
   "id": "7bd900ed",
   "metadata": {},
   "outputs": [
    {
     "data": {
      "text/plain": [
       "25"
      ]
     },
     "execution_count": 2,
     "metadata": {},
     "output_type": "execute_result"
    }
   ],
   "source": [
    "class Mat:\n",
    "    @staticmethod\n",
    "    def karesi(sayi):\n",
    "        return sayi*sayi\n",
    "Mat.karesi(5)"
   ]
  },
  {
   "cell_type": "code",
   "execution_count": null,
   "id": "779c60d1",
   "metadata": {},
   "outputs": [],
   "source": [
    "\"\"\"\n",
    "sınıflar pythonda birçok yerde kullanılabilir. Değişken olarak, parametre olarak\n",
    "tanımlanabilir, fonksiyonlarda geri dönüş değeri olarak verilebilir\n",
    "\"\"\""
   ]
  },
  {
   "cell_type": "code",
   "execution_count": 4,
   "id": "d6dc7064",
   "metadata": {},
   "outputs": [
    {
     "name": "stdout",
     "output_type": "stream",
     "text": [
      "<__main__.Kisi object at 0x7f789024bbe0>\n"
     ]
    }
   ],
   "source": [
    "class Kisi():\n",
    "    pass\n",
    "print(Kisi())\n",
    "\n",
    "def x():\n",
    "    return Kisi()"
   ]
  },
  {
   "cell_type": "code",
   "execution_count": null,
   "id": "9a976a07",
   "metadata": {},
   "outputs": [],
   "source": [
    "\"\"\"\n",
    "sınıflarda açık ve gizli değişkenler oluşturulabilir. Normal tanımlanan değişkenler açık\n",
    "değişkenlerdir. Sınıf dışında normal değişkenlere ulaşılır, gizli değişkenlere ulaşılamaz. Aynı fonksiyonlar için de geçerlidir\n",
    "\"\"\""
   ]
  },
  {
   "cell_type": "code",
   "execution_count": 5,
   "id": "87461941",
   "metadata": {},
   "outputs": [],
   "source": [
    "class Kisi:\n",
    "    açık=\"Konya\"\n",
    "    __gizli='gizli'\n",
    "    __gizli_='gizli'\n",
    "    __gizli_xyz='gizli'\n",
    "    __gizli_xyz_='gizli'\n",
    "    \n",
    "    def yaz(self):\n",
    "        print(self.__gizli)\n",
    "    def __yaz2(self):\n",
    "        print(\"Konya\")"
   ]
  },
  {
   "cell_type": "code",
   "execution_count": 6,
   "id": "2e79c803",
   "metadata": {},
   "outputs": [
    {
     "data": {
      "text/plain": [
       "'Konya'"
      ]
     },
     "execution_count": 6,
     "metadata": {},
     "output_type": "execute_result"
    }
   ],
   "source": [
    "Kisi.açık #Konya değeri gelir"
   ]
  },
  {
   "cell_type": "code",
   "execution_count": 7,
   "id": "f9a6d748",
   "metadata": {},
   "outputs": [
    {
     "ename": "AttributeError",
     "evalue": "type object 'Kisi' has no attribute '__gizli'",
     "output_type": "error",
     "traceback": [
      "\u001b[0;31m---------------------------------------------------------------------------\u001b[0m",
      "\u001b[0;31mAttributeError\u001b[0m                            Traceback (most recent call last)",
      "\u001b[0;32m/var/folders/kp/6q57p5qj75v7krbh1nrb36gm0000gn/T/ipykernel_3028/2074646701.py\u001b[0m in \u001b[0;36m<module>\u001b[0;34m\u001b[0m\n\u001b[0;32m----> 1\u001b[0;31m \u001b[0mKisi\u001b[0m\u001b[0;34m.\u001b[0m\u001b[0m__gizli\u001b[0m\u001b[0;34m\u001b[0m\u001b[0;34m\u001b[0m\u001b[0m\n\u001b[0m",
      "\u001b[0;31mAttributeError\u001b[0m: type object 'Kisi' has no attribute '__gizli'"
     ]
    }
   ],
   "source": [
    "Kisi.__gizli #hata verir"
   ]
  },
  {
   "cell_type": "code",
   "execution_count": 10,
   "id": "4469e446",
   "metadata": {},
   "outputs": [
    {
     "name": "stdout",
     "output_type": "stream",
     "text": [
      "gizli\n"
     ]
    }
   ],
   "source": [
    "Kisi().yaz()"
   ]
  },
  {
   "cell_type": "code",
   "execution_count": 13,
   "id": "86d5de25",
   "metadata": {},
   "outputs": [
    {
     "name": "stdout",
     "output_type": "stream",
     "text": [
      "Konya\n"
     ]
    }
   ],
   "source": [
    "# gizlilere ulaşmak\n",
    "Kisi._Kisi__gizli\n",
    "Kisi()._Kisi__yaz2()"
   ]
  },
  {
   "cell_type": "code",
   "execution_count": 15,
   "id": "976fd112",
   "metadata": {},
   "outputs": [
    {
     "data": {
      "text/plain": [
       "'Konya'"
      ]
     },
     "execution_count": 15,
     "metadata": {},
     "output_type": "execute_result"
    }
   ],
   "source": [
    "# sınıfta tanımlanan bir fonk, sınıf niteliği şeklinde kullanılabilir. Bunun için fonksiyonun üst satırına @property ifadesi yazılmalıdır\n",
    "\n",
    "class Kisi:\n",
    "    def __init__(self):\n",
    "        pass\n",
    "    @property\n",
    "    def yaz(self):\n",
    "        return \"Konya\"\n",
    "a=Kisi()\n",
    "#a.yaz() # hata verir\n",
    "a.yaz #Konya"
   ]
  },
  {
   "cell_type": "code",
   "execution_count": 17,
   "id": "7c359c03",
   "metadata": {},
   "outputs": [
    {
     "data": {
      "text/plain": [
       "'Ahmet'"
      ]
     },
     "execution_count": 17,
     "metadata": {},
     "output_type": "execute_result"
    }
   ],
   "source": [
    "# Miras alınan sınıfın tüm özellikleri, miras alan sınıfta * kullanılarak kolayca alınabilir. Ayrı ayrı yazmak zorunda kalınmaz\n",
    "class Kisi:\n",
    "    def __init__(self,adi,yasi):\n",
    "        self.ad=adi\n",
    "        self.yas=yasi\n",
    "class Ogrenci(Kisi):\n",
    "    def __init__(self,*parametre):\n",
    "        super().__init__(*parametre)\n",
    "        self.num=123\n",
    "x=Ogrenci(\"Ahmet\",19)\n",
    "x.ad"
   ]
  },
  {
   "cell_type": "code",
   "execution_count": null,
   "id": "a68ab7eb",
   "metadata": {},
   "outputs": [],
   "source": []
  }
 ],
 "metadata": {
  "kernelspec": {
   "display_name": "Python 3 (ipykernel)",
   "language": "python",
   "name": "python3"
  },
  "language_info": {
   "codemirror_mode": {
    "name": "ipython",
    "version": 3
   },
   "file_extension": ".py",
   "mimetype": "text/x-python",
   "name": "python",
   "nbconvert_exporter": "python",
   "pygments_lexer": "ipython3",
   "version": "3.9.7"
  }
 },
 "nbformat": 4,
 "nbformat_minor": 5
}

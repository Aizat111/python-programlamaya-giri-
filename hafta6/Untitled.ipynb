{
 "cells": [
  {
   "cell_type": "code",
   "execution_count": null,
   "id": "15c47f72",
   "metadata": {},
   "outputs": [],
   "source": [
    "####### VERİ TABANI SQLİTE########\n",
    "\"\"\"\n",
    "Pythonda 2.5 sürümünden sonra ön yüklü olan bir veri tabanıdır. Fazladan bir yükleme yapmaya gerek yoktur.\n",
    "Basit bir arayüzü ve kullanımı vrdır.\n",
    "Açık kaynak kodlu bir yazılımdır. Ticari olan/olmayan tüm uygulamalarda kullanılabilir.\n",
    "Popülerdir. Bugün SQLite kullanan bazı büyük şirketler: Mozilla, Symbian, Apple, Sun ve Google\n",
    "\n",
    "\"\"\""
   ]
  },
  {
   "cell_type": "code",
   "execution_count": 35,
   "id": "f8128a8e",
   "metadata": {},
   "outputs": [],
   "source": [
    "# programı kullanabilmek için sqlite3 modülğnğ eklemek gerekir."
   ]
  },
  {
   "cell_type": "code",
   "execution_count": 48,
   "id": "cfb7fe50",
   "metadata": {},
   "outputs": [],
   "source": [
    "import sqlite3\n",
    "# -*- coding: utf-8 -*-\n"
   ]
  },
  {
   "cell_type": "code",
   "execution_count": 49,
   "id": "1cf4e154",
   "metadata": {},
   "outputs": [],
   "source": [
    "# connect() metodu: veri tabanına bağlanmak için kullanılır. Veri tabanı mevcutsa bağlanılır, değilse yeni veri tabanı oluşturulur"
   ]
  },
  {
   "cell_type": "code",
   "execution_count": 50,
   "id": "380c5d7d",
   "metadata": {},
   "outputs": [],
   "source": [
    "baglan=sqlite3.connect(\"telefon.db\") # sabit disk üzerinde oluşturulur\n",
    "# baglan=sqlite3.connect(':memory:') #ram üzerinde geçici veritabanı oluşturur\n",
    "# baglan=sqlite3.connect('')    # sabit disk üzerinde geçici veritabanı oluşturur"
   ]
  },
  {
   "cell_type": "code",
   "execution_count": 51,
   "id": "aba536c0",
   "metadata": {},
   "outputs": [],
   "source": [
    "baglan.text_factory = lambda x: unicode(x, \"utf-8\", \"ignore\")"
   ]
  },
  {
   "cell_type": "code",
   "execution_count": 52,
   "id": "764630d9",
   "metadata": {},
   "outputs": [],
   "source": [
    "imlec=baglan.cursor()# bağlantı kurulan veritabanı üzerindeişlem yapmak için imleç oluşturulmalıdır"
   ]
  },
  {
   "cell_type": "code",
   "execution_count": 53,
   "id": "517087d3",
   "metadata": {},
   "outputs": [],
   "source": [
    "# execute() metoduÇ oluşturulan imleç nesnesinde sql komutlarını çalıştırmak için kullanılır"
   ]
  },
  {
   "cell_type": "code",
   "execution_count": 54,
   "id": "4305f3c1",
   "metadata": {},
   "outputs": [],
   "source": [
    "#commit() metodu: sorguların çalışıp verilerin veritabanına eklenmesini ver veritabanının güncellenmesini sağlar"
   ]
  },
  {
   "cell_type": "code",
   "execution_count": 55,
   "id": "2a6e3db2",
   "metadata": {},
   "outputs": [
    {
     "data": {
      "text/plain": [
       "<sqlite3.Cursor at 0x7ff1b81a4570>"
      ]
     },
     "execution_count": 55,
     "metadata": {},
     "output_type": "execute_result"
    }
   ],
   "source": [
    "imlec.execute(\"CREATE TABLE IF NOT EXISTS rehber(Ad TEXT,Soyad TEXT, Tel INT)\")"
   ]
  },
  {
   "cell_type": "code",
   "execution_count": 44,
   "id": "94fee870",
   "metadata": {},
   "outputs": [],
   "source": [
    "baglan.commit()"
   ]
  },
  {
   "cell_type": "code",
   "execution_count": 56,
   "id": "a31a76cd",
   "metadata": {},
   "outputs": [],
   "source": [
    "baglan.close()"
   ]
  },
  {
   "cell_type": "code",
   "execution_count": null,
   "id": "22385d01",
   "metadata": {},
   "outputs": [],
   "source": []
  }
 ],
 "metadata": {
  "kernelspec": {
   "display_name": "Python 3 (ipykernel)",
   "language": "python",
   "name": "python3"
  },
  "language_info": {
   "codemirror_mode": {
    "name": "ipython",
    "version": 3
   },
   "file_extension": ".py",
   "mimetype": "text/x-python",
   "name": "python",
   "nbconvert_exporter": "python",
   "pygments_lexer": "ipython3",
   "version": "3.9.7"
  }
 },
 "nbformat": 4,
 "nbformat_minor": 5
}

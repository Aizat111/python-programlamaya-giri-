{
 "cells": [
  {
   "cell_type": "code",
   "execution_count": null,
   "id": "a1c1f345",
   "metadata": {},
   "outputs": [],
   "source": [
    "############ DOSYA İŞLEMLERİ ############"
   ]
  },
  {
   "cell_type": "code",
   "execution_count": null,
   "id": "c0677324",
   "metadata": {},
   "outputs": [],
   "source": [
    "# open(): dosyayı açmak için kullanılır"
   ]
  },
  {
   "cell_type": "code",
   "execution_count": null,
   "id": "3cd5643c",
   "metadata": {},
   "outputs": [],
   "source": [
    "\"\"\"\n",
    "read()-readline()-readlines():Dosyadan okumalar yapar. karakter dizisi tipinde verir\n",
    "read(15)-dosyadan 15 byte okur. karakter dizisi tipinde verir\n",
    "readline()-dosyadan bir satur okuma yapar. Karakter dizisi tiğinde verir\n",
    "readlines()- dosyadan tümünü bir liste tipinde yapar\n",
    "\"\"\""
   ]
  },
  {
   "cell_type": "code",
   "execution_count": null,
   "id": "b82e6dc8",
   "metadata": {},
   "outputs": [],
   "source": [
    "\"\"\"\n",
    "write()-writelines()- dosyaya kayıt yapmak için kullanılır\n",
    "write('Konya')-karakter dizisi tipindeki veriler yanyana kayıt edilir\n",
    "write('Konya\\n')-karakter dizisi tipindeki veriler alt alta kayıt edilir\n",
    "writelines(\"Konya\\n\")-liste tipindeki veriler kayıt edilir\n",
    "\"\"\""
   ]
  },
  {
   "cell_type": "code",
   "execution_count": null,
   "id": "ace2a9cc",
   "metadata": {},
   "outputs": [],
   "source": [
    "#close(): dosyayı kapatmak için kullanılır"
   ]
  },
  {
   "cell_type": "code",
   "execution_count": null,
   "id": "2d74ddfb",
   "metadata": {},
   "outputs": [],
   "source": [
    "#tell(): imlecin kaçıncı byte'a olduğunu verir\n",
    "#seek(): imleci istediğimiz byte'a götürür"
   ]
  },
  {
   "cell_type": "code",
   "execution_count": null,
   "id": "90478d90",
   "metadata": {},
   "outputs": [],
   "source": [
    "# with open('dosyaadı'.'r') as dosya\n",
    "#içine yazınca open-close yazmamıza gerek kalmaz"
   ]
  },
  {
   "cell_type": "code",
   "execution_count": 3,
   "id": "eb374253",
   "metadata": {},
   "outputs": [],
   "source": [
    "dosya=open('telefon.txt','w')\n",
    "dosya.write('Konya')\n",
    "dosya.close()"
   ]
  },
  {
   "cell_type": "code",
   "execution_count": 6,
   "id": "ad74495a",
   "metadata": {},
   "outputs": [],
   "source": [
    "dosya=open('telefon.txt','a')\n",
    "dosya.write('\\nBursa')\n",
    "dosya.close()"
   ]
  },
  {
   "cell_type": "code",
   "execution_count": 8,
   "id": "00b31882",
   "metadata": {},
   "outputs": [
    {
     "name": "stdout",
     "output_type": "stream",
     "text": [
      "KonyaBursa\n",
      "\n",
      "Bursa\n"
     ]
    }
   ],
   "source": [
    "dosya=open('telefon.txt','r')\n",
    "for i in dosya:\n",
    "    print(i)\n",
    "dosya.close()"
   ]
  },
  {
   "cell_type": "code",
   "execution_count": 9,
   "id": "87470619",
   "metadata": {},
   "outputs": [
    {
     "name": "stdout",
     "output_type": "stream",
     "text": [
      "KonyaBursa\n",
      "Bursa\n"
     ]
    }
   ],
   "source": [
    "dosya=open('telefon.txt','r')\n",
    "oku=dosya.read()\n",
    "print(oku)\n",
    "dosya.close()"
   ]
  },
  {
   "cell_type": "code",
   "execution_count": 12,
   "id": "8d0e7edd",
   "metadata": {},
   "outputs": [
    {
     "name": "stdout",
     "output_type": "stream",
     "text": [
      "KonyaBursa\n",
      "BursaAdana\n",
      "imlecin yeri: 21\n",
      "KonyaBursa\n",
      "BursaAdana\n",
      "Adana\n"
     ]
    }
   ],
   "source": [
    "dosya=open('telefon.txt','r+')\n",
    "oku=dosya.read()\n",
    "print(oku)\n",
    "print(\"imlecin yeri: {}\".format(dosya.tell()))\n",
    "dosya.write('\\nAdana')\n",
    "dosya.seek(0) #dosyanın başına götür\n",
    "oku=dosya.read()\n",
    "print(oku)\n",
    "dosya.close()"
   ]
  },
  {
   "cell_type": "code",
   "execution_count": 13,
   "id": "076d8afb",
   "metadata": {},
   "outputs": [],
   "source": [
    "with open('telefon.txt','a') as dosya:\n",
    "    dosya.write(\"\\nKonya\")"
   ]
  },
  {
   "cell_type": "code",
   "execution_count": 14,
   "id": "05388492",
   "metadata": {},
   "outputs": [
    {
     "name": "stdout",
     "output_type": "stream",
     "text": [
      "KonyaBursa\n",
      "BursaAdana\n",
      "Adana\n",
      "Konya\n"
     ]
    }
   ],
   "source": [
    "with open('telefon.txt','r') as dosya:\n",
    "    oku=dosya.read()\n",
    "    print(oku)"
   ]
  },
  {
   "cell_type": "code",
   "execution_count": 2,
   "id": "3c39518b",
   "metadata": {},
   "outputs": [
    {
     "name": "stdout",
     "output_type": "stream",
     "text": [
      "\n"
     ]
    }
   ],
   "source": [
    "with open('telefon.txt','r+') as dosya:\n",
    "    oku=dosya.read()\n",
    "    dosya.seek(0)\n",
    "    dosya.write('Eskişehir\\n'+oku)"
   ]
  },
  {
   "cell_type": "code",
   "execution_count": 3,
   "id": "27a29caa",
   "metadata": {},
   "outputs": [],
   "source": [
    "with open('telefon.txt','r+') as dosya:\n",
    "    veri=dosya.readlines()\n",
    "    veri.insert(2,'Ankara\\n')\n",
    "    dosya.seek(0)\n",
    "    dosya.writelines(veri)"
   ]
  },
  {
   "cell_type": "code",
   "execution_count": null,
   "id": "8e79ee7c",
   "metadata": {},
   "outputs": [],
   "source": []
  }
 ],
 "metadata": {
  "kernelspec": {
   "display_name": "Python 3 (ipykernel)",
   "language": "python",
   "name": "python3"
  },
  "language_info": {
   "codemirror_mode": {
    "name": "ipython",
    "version": 3
   },
   "file_extension": ".py",
   "mimetype": "text/x-python",
   "name": "python",
   "nbconvert_exporter": "python",
   "pygments_lexer": "ipython3",
   "version": "3.9.7"
  }
 },
 "nbformat": 4,
 "nbformat_minor": 5
}

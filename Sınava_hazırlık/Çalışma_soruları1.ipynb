{
 "cells": [
  {
   "cell_type": "code",
   "execution_count": null,
   "id": "efd5c18c",
   "metadata": {},
   "outputs": [],
   "source": [
    "#girilen vize ve final notuna göre ortalama hesaplayan program yazınız"
   ]
  },
  {
   "cell_type": "code",
   "execution_count": 1,
   "id": "c66b05b4",
   "metadata": {},
   "outputs": [
    {
     "name": "stdout",
     "output_type": "stream",
     "text": [
      "Vize notunuzu giriniz: 78\n",
      "Final notunuzu giriniz: 90\n",
      "Not ortalamanız: 85.2\n"
     ]
    }
   ],
   "source": [
    "vize=int(input(\"Vize notunuzu giriniz: \"))\n",
    "final=int(input(\"Final notunuzu giriniz: \"))\n",
    "ortalama=(vize*40/100)+(final*60/100)\n",
    "print(\"Not ortalamanız: {}\".format(ortalama))"
   ]
  },
  {
   "cell_type": "code",
   "execution_count": null,
   "id": "263ecee1",
   "metadata": {},
   "outputs": [],
   "source": [
    "# girilen sayının asal sayı olup olmadığını bulunuz"
   ]
  },
  {
   "cell_type": "code",
   "execution_count": 7,
   "id": "c597d0db",
   "metadata": {},
   "outputs": [
    {
     "name": "stdout",
     "output_type": "stream",
     "text": [
      "Sayı giriniz: 8\n",
      "Girdiğiniz sayı asal değildir\n"
     ]
    }
   ],
   "source": [
    "sayi=int(input(\"Sayı giriniz: \"))\n",
    "sayac=0\n",
    "for i in range(2,sayi):\n",
    "    if(sayi%i==0):\n",
    "        sayac+=1\n",
    "if(sayac==0):\n",
    "    print(\"Girdiğiniz sayı asaldır\")\n",
    "else:\n",
    "    print(\"Girdiğiniz sayı asal değildir\")"
   ]
  },
  {
   "cell_type": "code",
   "execution_count": null,
   "id": "31cd1f2e",
   "metadata": {},
   "outputs": [],
   "source": [
    "# 1-100 arasındaki asal sayılar asallar.txt dosyasına yazdır"
   ]
  },
  {
   "cell_type": "code",
   "execution_count": 2,
   "id": "30c5d22b",
   "metadata": {},
   "outputs": [],
   "source": [
    "dosya=open(\"asallar.txt\",\"w\")\n",
    "for i in range(1,101):\n",
    "    sayac=0\n",
    "    for j in range(2,i):\n",
    "        if(i%j==0):\n",
    "            sayac+=1\n",
    "    if(sayac==0):\n",
    "        dosya.write(\"\\n\"+str(i))\n",
    "dosya.close()"
   ]
  },
  {
   "cell_type": "code",
   "execution_count": null,
   "id": "7980c33e",
   "metadata": {},
   "outputs": [],
   "source": [
    "#girilen kelimenin harflerini alt alta yazdıran program"
   ]
  },
  {
   "cell_type": "code",
   "execution_count": 3,
   "id": "4fc4d1ae",
   "metadata": {},
   "outputs": [
    {
     "name": "stdout",
     "output_type": "stream",
     "text": [
      "Kelimenizi giriniz: Aizat\n",
      "A\n",
      "i\n",
      "z\n",
      "a\n",
      "t\n"
     ]
    }
   ],
   "source": [
    "kelime=input(\"Kelimenizi giriniz: \")\n",
    "for harf in kelime:\n",
    "    print(harf)\n"
   ]
  },
  {
   "cell_type": "code",
   "execution_count": null,
   "id": "697cf42e",
   "metadata": {},
   "outputs": [],
   "source": [
    "# fonksiyon kullanarak yarıçapı girilen dairenin alanını hesaplayan program"
   ]
  },
  {
   "cell_type": "code",
   "execution_count": 6,
   "id": "a04c97de",
   "metadata": {},
   "outputs": [
    {
     "name": "stdout",
     "output_type": "stream",
     "text": [
      "Dairenin yarıçapını giriniz: 2\n",
      "Dairenin alanı:  12.56\n"
     ]
    }
   ],
   "source": [
    "import math\n",
    "def alanHesapla(r):\n",
    "    alan=pow(r,2)*3.14\n",
    "    return alan\n",
    "r=float(input(\"Dairenin yarıçapını giriniz: \"))\n",
    "print(\"Dairenin alanı: \",alanHesapla(r))\n",
    "    "
   ]
  },
  {
   "cell_type": "code",
   "execution_count": null,
   "id": "880bf223",
   "metadata": {},
   "outputs": [],
   "source": [
    "#Python ile bir liste içinde 5’in katları olan sayıları listeleme."
   ]
  },
  {
   "cell_type": "code",
   "execution_count": 10,
   "id": "a91b7cc6",
   "metadata": {},
   "outputs": [],
   "source": [
    "liste=[10,13,56,78,90,34,55,79,11,15,5]\n",
    "sayac=0\n",
    "with open(\"5in_katları.txt\",\"w+\") as dosya:\n",
    "    for sayi in liste:\n",
    "        if(sayi%5==0):\n",
    "            dosya.write(str(sayi)+\": 5in katıdır\\n\")\n",
    "            sayac+=1\n",
    "    dosya.write(\"Listenin sonuna geldik.\\n\")\n",
    "    dosya.write(\"Toplamda \" +str(sayac)+\" sayi var\")"
   ]
  },
  {
   "cell_type": "code",
   "execution_count": null,
   "id": "dc3c29ae",
   "metadata": {},
   "outputs": [],
   "source": []
  }
 ],
 "metadata": {
  "kernelspec": {
   "display_name": "Python 3 (ipykernel)",
   "language": "python",
   "name": "python3"
  },
  "language_info": {
   "codemirror_mode": {
    "name": "ipython",
    "version": 3
   },
   "file_extension": ".py",
   "mimetype": "text/x-python",
   "name": "python",
   "nbconvert_exporter": "python",
   "pygments_lexer": "ipython3",
   "version": "3.9.7"
  }
 },
 "nbformat": 4,
 "nbformat_minor": 5
}

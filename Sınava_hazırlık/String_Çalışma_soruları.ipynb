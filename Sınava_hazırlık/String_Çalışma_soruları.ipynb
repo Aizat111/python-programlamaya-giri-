{
 "cells": [
  {
   "cell_type": "code",
   "execution_count": null,
   "id": "fc5950bd",
   "metadata": {},
   "outputs": [],
   "source": [
    "#Bir string içerisinde belirlenen bir karakterin olup olmadığını kontrol eden Python programı kodları. Kontrol etme işlemi fonksiyon içinde yapılmıştır."
   ]
  },
  {
   "cell_type": "code",
   "execution_count": 3,
   "id": "e6e3a467",
   "metadata": {},
   "outputs": [],
   "source": [
    "def karakterKontrol(kelime,karakter):\n",
    "    sayac=0\n",
    "    for harf in kelime:\n",
    "        if(harf==karakter):\n",
    "            sayac+=1\n",
    "    if sayac==0:\n",
    "        return False\n",
    "    else:\n",
    "        return True"
   ]
  },
  {
   "cell_type": "code",
   "execution_count": 10,
   "id": "a4f92e4b",
   "metadata": {},
   "outputs": [],
   "source": [
    "def karakterSayma(kelime,karakter):\n",
    "    sayac=0\n",
    "    for harf in kelime:\n",
    "        if(harf==karakter):\n",
    "            sayac+=1\n",
    "    return sayac\n",
    "        "
   ]
  },
  {
   "cell_type": "code",
   "execution_count": 14,
   "id": "7cb2280f",
   "metadata": {},
   "outputs": [],
   "source": [
    "def kelimeTersten(kelime):\n",
    "    return kelime[::-1]"
   ]
  },
  {
   "cell_type": "code",
   "execution_count": 4,
   "id": "6ba0aa80",
   "metadata": {},
   "outputs": [
    {
     "name": "stdout",
     "output_type": "stream",
     "text": [
      "Bir kelime giriniz: bayram\n"
     ]
    }
   ],
   "source": [
    "kelime=input(\"Bir kelime giriniz: \")"
   ]
  },
  {
   "cell_type": "code",
   "execution_count": 12,
   "id": "549be6a1",
   "metadata": {},
   "outputs": [
    {
     "name": "stdout",
     "output_type": "stream",
     "text": [
      "Bir karakter giriniz: a\n"
     ]
    }
   ],
   "source": [
    "karakter=input(\"Bir karakter giriniz: \")"
   ]
  },
  {
   "cell_type": "code",
   "execution_count": 8,
   "id": "13dc3c47",
   "metadata": {},
   "outputs": [
    {
     "data": {
      "text/plain": [
       "False"
      ]
     },
     "execution_count": 8,
     "metadata": {},
     "output_type": "execute_result"
    }
   ],
   "source": [
    "karakterKontrol(kelime,karakter)"
   ]
  },
  {
   "cell_type": "code",
   "execution_count": 13,
   "id": "1469c583",
   "metadata": {},
   "outputs": [
    {
     "data": {
      "text/plain": [
       "2"
      ]
     },
     "execution_count": 13,
     "metadata": {},
     "output_type": "execute_result"
    }
   ],
   "source": [
    "karakterSayma(kelime,karakter)"
   ]
  },
  {
   "cell_type": "code",
   "execution_count": 15,
   "id": "cbca3d20",
   "metadata": {},
   "outputs": [
    {
     "data": {
      "text/plain": [
       "'maryab'"
      ]
     },
     "execution_count": 15,
     "metadata": {},
     "output_type": "execute_result"
    }
   ],
   "source": [
    "kelimeTersten(kelime)"
   ]
  },
  {
   "cell_type": "code",
   "execution_count": null,
   "id": "9a97ff83",
   "metadata": {},
   "outputs": [],
   "source": []
  }
 ],
 "metadata": {
  "kernelspec": {
   "display_name": "Python 3 (ipykernel)",
   "language": "python",
   "name": "python3"
  },
  "language_info": {
   "codemirror_mode": {
    "name": "ipython",
    "version": 3
   },
   "file_extension": ".py",
   "mimetype": "text/x-python",
   "name": "python",
   "nbconvert_exporter": "python",
   "pygments_lexer": "ipython3",
   "version": "3.9.7"
  }
 },
 "nbformat": 4,
 "nbformat_minor": 5
}

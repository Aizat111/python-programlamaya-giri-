{
 "cells": [
  {
   "cell_type": "code",
   "execution_count": null,
   "id": "1c1f363b",
   "metadata": {},
   "outputs": [],
   "source": [
    "# 1-100 arasında  random oluşturulan sayını tahmin eden kodu yazınız"
   ]
  },
  {
   "cell_type": "code",
   "execution_count": 2,
   "id": "e8fe1147",
   "metadata": {},
   "outputs": [
    {
     "name": "stdout",
     "output_type": "stream",
     "text": [
      "Bir sayi giriniz: 5\n",
      "Biraz daha büyük sayi giriniz\n",
      "Bir sayi giriniz: 80\n",
      "Biraz daha küçük sayi giriniz\n",
      "Bir sayi giriniz: 60\n",
      "Biraz daha küçük sayi giriniz\n",
      "Bir sayi giriniz: 40\n",
      "Biraz daha büyük sayi giriniz\n",
      "Bir sayi giriniz: 50\n",
      "Biraz daha büyük sayi giriniz\n",
      "Bir sayi giriniz: 55\n",
      "Biraz daha küçük sayi giriniz\n",
      "Bir sayi giriniz: 53\n",
      "Biraz daha büyük sayi giriniz\n",
      "Bir sayi giriniz: 54\n",
      "Sayıyı 8 tahminde buldunuz\n"
     ]
    }
   ],
   "source": [
    "import random\n",
    "sayi1=random.randint(1,100)\n",
    "sayac=0\n",
    "while True:\n",
    "    sayi2=int(input(\"Bir sayi giriniz: \"))\n",
    "    sayac+=1\n",
    "    if(sayi1==sayi2):\n",
    "        break;\n",
    "    elif(sayi1>sayi2):\n",
    "        print(\"Biraz daha büyük sayi giriniz\")\n",
    "    else:\n",
    "        print(\"Biraz daha küçük sayi giriniz\")\n",
    "print(\"Sayıyı {} tahminde buldunuz\".format(sayac))"
   ]
  },
  {
   "cell_type": "code",
   "execution_count": null,
   "id": "52fe9032",
   "metadata": {},
   "outputs": [],
   "source": []
  }
 ],
 "metadata": {
  "kernelspec": {
   "display_name": "Python 3 (ipykernel)",
   "language": "python",
   "name": "python3"
  },
  "language_info": {
   "codemirror_mode": {
    "name": "ipython",
    "version": 3
   },
   "file_extension": ".py",
   "mimetype": "text/x-python",
   "name": "python",
   "nbconvert_exporter": "python",
   "pygments_lexer": "ipython3",
   "version": "3.9.7"
  }
 },
 "nbformat": 4,
 "nbformat_minor": 5
}

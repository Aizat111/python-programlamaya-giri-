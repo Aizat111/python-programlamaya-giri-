{
 "cells": [
  {
   "cell_type": "code",
   "execution_count": 2,
   "id": "c14b372c",
   "metadata": {},
   "outputs": [
    {
     "name": "stdout",
     "output_type": "stream",
     "text": [
      "[0, 10, 20, 30, 40, 50, 60, 70, 80, 90, 100]\n"
     ]
    }
   ],
   "source": [
    "list=[x for x in range(101) if x%2==0 and x%5==0]\n",
    "print(list)"
   ]
  },
  {
   "cell_type": "code",
   "execution_count": null,
   "id": "7022d819",
   "metadata": {},
   "outputs": [],
   "source": [
    "#kitap.txt dosyasındaki büyük harfleri sayısını bulan"
   ]
  },
  {
   "cell_type": "code",
   "execution_count": 13,
   "id": "9effc057",
   "metadata": {},
   "outputs": [
    {
     "name": "stdout",
     "output_type": "stream",
     "text": [
      "Kimlik numaranızı giriniz: 12345678910\n"
     ]
    }
   ],
   "source": [
    "kimlikNo=input(\"Kimlik numaranızı giriniz: \")"
   ]
  },
  {
   "cell_type": "code",
   "execution_count": 4,
   "id": "93780055",
   "metadata": {},
   "outputs": [
    {
     "data": {
      "text/plain": [
       "[[0, 0, 0], [0, 0, 0], [0, 0, 0]]"
      ]
     },
     "execution_count": 4,
     "metadata": {},
     "output_type": "execute_result"
    }
   ],
   "source": [
    "list1=[0,0,0]\n",
    "list2=[0,0,0]\n",
    "list3=[0,0,0]\n",
    "list4=[list1,list2,list3]"
   ]
  },
  {
   "cell_type": "code",
   "execution_count": 14,
   "id": "6bc2d790",
   "metadata": {},
   "outputs": [],
   "source": [
    "def Hesapla(kimlikNo):\n",
    "    list1=[[0, 0, 0], [0, 0, 0], [0, 0, 0]]\n",
    "    k=0\n",
    "    for i in range(3):\n",
    "        for j in range(3):\n",
    "            list1[i][j]=int(kimlikNo[k])\n",
    "            k+=1\n",
    "    sonHane=int(kimlikNo[9:11])\n",
    "    print(sonHane)\n",
    "    toplamSatir=0\n",
    "    toplamSutun=0\n",
    "    indis=0\n",
    "    if(sonHane<=50):\n",
    "        for i in range(3):\n",
    "            for j in range(3):\n",
    "                toplamSatir+=list1[i][j]\n",
    "            if i==0:\n",
    "                enKucukSatir=toplamSatir\n",
    "            if toplamSatir<enKucukSatir:\n",
    "                enKucukSatir=toplamSatir\n",
    "                indis=i\n",
    "    #print(satirİndis)\n",
    "    else:\n",
    "        for i in range(3):\n",
    "            for j in range(3):\n",
    "                toplamSutun+=list1[j][i]\n",
    "            if i==0:\n",
    "                enBuyukSutun=toplamSutun\n",
    "            if toplamSutun>enBuyukSutun:\n",
    "                enBuyukSutun=toplamSutun\n",
    "                indis=i\n",
    "    \n",
    "    \n",
    "                "
   ]
  },
  {
   "cell_type": "code",
   "execution_count": 15,
   "id": "b3715e75",
   "metadata": {},
   "outputs": [
    {
     "name": "stdout",
     "output_type": "stream",
     "text": [
      "10\n",
      "0\n"
     ]
    }
   ],
   "source": [
    "Hesapla(kimlikNo)"
   ]
  },
  {
   "cell_type": "code",
   "execution_count": null,
   "id": "bccd48e9",
   "metadata": {},
   "outputs": [],
   "source": []
  }
 ],
 "metadata": {
  "kernelspec": {
   "display_name": "Python 3 (ipykernel)",
   "language": "python",
   "name": "python3"
  },
  "language_info": {
   "codemirror_mode": {
    "name": "ipython",
    "version": 3
   },
   "file_extension": ".py",
   "mimetype": "text/x-python",
   "name": "python",
   "nbconvert_exporter": "python",
   "pygments_lexer": "ipython3",
   "version": "3.9.7"
  }
 },
 "nbformat": 4,
 "nbformat_minor": 5
}

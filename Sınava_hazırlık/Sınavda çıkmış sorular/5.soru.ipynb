{
 "cells": [
  {
   "cell_type": "code",
   "execution_count": null,
   "id": "538263ae",
   "metadata": {},
   "outputs": [],
   "source": [
    "#kimlik numarasını kullanıcıdan alarak son matris şeklinde listeye atayınız ve son 2 hanesi 50 ve 50 den küçükse\n",
    "#toplamları en küçük olan satırın pozisyonunu dödürünüz\n",
    "#eğer 50den büyükse toplamları en büyük olan sütunun pozisyonunu döndürünüz"
   ]
  },
  {
   "cell_type": "code",
   "execution_count": null,
   "id": "619230a2",
   "metadata": {},
   "outputs": [],
   "source": [
    "kimlikNo=input(\"Kimlik numaranızı giriniz: \")"
   ]
  },
  {
   "cell_type": "code",
   "execution_count": null,
   "id": "156b36c5",
   "metadata": {},
   "outputs": [],
   "source": [
    "def Hesapla(kimlikNo):\n",
    "    list1=[[0, 0, 0], [0, 0, 0], [0, 0, 0]]\n",
    "    k=0\n",
    "    for i in range(3):\n",
    "        for j in range(3):\n",
    "            list1[i][j]=int(kimlikNo[k])\n",
    "            k+=1\n",
    "    sonHane=int(kimlikNo[9:11])\n",
    "    #print(sonHane)\n",
    "    toplamSatir=0\n",
    "    toplamSutun=0\n",
    "    indis=0\n",
    "    if(sonHane<=50):\n",
    "        for i in range(3):\n",
    "            for j in range(3):\n",
    "                toplamSatir+=list1[i][j]\n",
    "            if i==0:\n",
    "                enKucukSatir=toplamSatir\n",
    "            if toplamSatir<enKucukSatir:\n",
    "                enKucukSatir=toplamSatir\n",
    "                indis=i\n",
    "    #print(satirİndis)\n",
    "    else:\n",
    "        for i in range(3):\n",
    "            for j in range(3):\n",
    "                toplamSutun+=list1[j][i]\n",
    "            if i==0:\n",
    "                enBuyukSutun=toplamSutun\n",
    "            if toplamSutun>enBuyukSutun:\n",
    "                enBuyukSutun=toplamSutun\n",
    "                indis=i\n",
    "    return indis\n",
    "    "
   ]
  },
  {
   "cell_type": "code",
   "execution_count": null,
   "id": "57e199aa",
   "metadata": {},
   "outputs": [],
   "source": [
    "print(Hesapla(kimlikNo))"
   ]
  }
 ],
 "metadata": {
  "kernelspec": {
   "display_name": "Python 3 (ipykernel)",
   "language": "python",
   "name": "python3"
  },
  "language_info": {
   "codemirror_mode": {
    "name": "ipython",
    "version": 3
   },
   "file_extension": ".py",
   "mimetype": "text/x-python",
   "name": "python",
   "nbconvert_exporter": "python",
   "pygments_lexer": "ipython3",
   "version": "3.9.7"
  }
 },
 "nbformat": 4,
 "nbformat_minor": 5
}

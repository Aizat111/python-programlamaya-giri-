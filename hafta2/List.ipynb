{
 "cells": [
  {
   "cell_type": "code",
   "execution_count": 2,
   "id": "be9b7c46",
   "metadata": {},
   "outputs": [
    {
     "data": {
      "text/plain": [
       "['Ankara', 'Konya', 'İstanbul']"
      ]
     },
     "execution_count": 2,
     "metadata": {},
     "output_type": "execute_result"
    }
   ],
   "source": [
    "#list()yapıcısı ile de yeni bir liste oluşturulur\n",
    "list=list((\"Ankara\",\"Konya\",\"İstanbul\"))\n",
    "list"
   ]
  },
  {
   "cell_type": "code",
   "execution_count": null,
   "id": "92271421",
   "metadata": {},
   "outputs": [],
   "source": [
    "\"\"\"\n",
    "Listeler sıralıdır, öğeler değiştirilebilir, eklenebilir, silinebilir.\n",
    "Liste öğeleri indexlenir.\n",
    "Liste aynı değerdeki birden fazla öğeye sahip olabilir.\n",
    "\"\"\""
   ]
  },
  {
   "cell_type": "code",
   "execution_count": 2,
   "id": "d0551b59",
   "metadata": {},
   "outputs": [
    {
     "name": "stdout",
     "output_type": "stream",
     "text": [
      "3\n"
     ]
    }
   ],
   "source": [
    "#listenin uzunluğunu görmek için\n",
    "print(len(list))"
   ]
  },
  {
   "cell_type": "code",
   "execution_count": 3,
   "id": "a7419f5c",
   "metadata": {},
   "outputs": [
    {
     "name": "stdout",
     "output_type": "stream",
     "text": [
      "İstanbul\n"
     ]
    }
   ],
   "source": [
    "#negatif indexleme\n",
    "print(list[-1])"
   ]
  },
  {
   "cell_type": "code",
   "execution_count": 6,
   "id": "9b4e4ba5",
   "metadata": {},
   "outputs": [
    {
     "data": {
      "text/plain": [
       "['abc', 34, True, 40, 'male']"
      ]
     },
     "execution_count": 6,
     "metadata": {},
     "output_type": "execute_result"
    }
   ],
   "source": [
    "#bir liste farklı veri türlerli içerebilir\n",
    "list1=[\"abc\",34,True,40,\"male\"]\n",
    "list1"
   ]
  },
  {
   "cell_type": "code",
   "execution_count": null,
   "id": "cd1f519f",
   "metadata": {},
   "outputs": [],
   "source": [
    "#liste öğelerine istenilen aralıklarda erişilebilir. Başlangıç indeksi dahil, bitiş indexi dahil değildir.\n",
    "print(list[1:3])\n",
    "print(list[:3]) #en baştan 3e kadar\n",
    "print(list[1:])#1den sona kadar\n",
    "print(list[-4:-1])"
   ]
  },
  {
   "cell_type": "code",
   "execution_count": 3,
   "id": "98645a95",
   "metadata": {},
   "outputs": [
    {
     "name": "stdout",
     "output_type": "stream",
     "text": [
      "Konya listede var\n"
     ]
    }
   ],
   "source": [
    "#in anahtar kelimesi ile listede belirtilen bir öğenin olup olmadığı belirlenir\n",
    "if \"Konya\" in list:\n",
    "    print(\"Konya listede var\")"
   ]
  },
  {
   "cell_type": "code",
   "execution_count": 4,
   "id": "c548beaa",
   "metadata": {},
   "outputs": [
    {
     "data": {
      "text/plain": [
       "['Ankara', 'Bolu', 'İzmir']"
      ]
     },
     "execution_count": 4,
     "metadata": {},
     "output_type": "execute_result"
    }
   ],
   "source": [
    "#değer değiştirme\n",
    "list[1:3]=[\"Bolu\",\"İzmir\"]\n",
    "list"
   ]
  },
  {
   "cell_type": "code",
   "execution_count": 9,
   "id": "93a20a84",
   "metadata": {},
   "outputs": [
    {
     "data": {
      "text/plain": [
       "['Ankara', 'Konya', 'İzmir', 'İzmir', 'İstanbul', 'Bursa']"
      ]
     },
     "execution_count": 9,
     "metadata": {},
     "output_type": "execute_result"
    }
   ],
   "source": [
    "#değer ekleme\n",
    "#insert() metodu kullanilir. Belirtilen indexe öğeyi ekler. Liste büyür\n",
    "list.insert(2,\"İzmir\")\n",
    "list\n",
    "#append medtodu, listenin sonuna ekle\n",
    "list.append(\"Bursa\")\n",
    "list\n"
   ]
  },
  {
   "cell_type": "code",
   "execution_count": 5,
   "id": "70db68c9",
   "metadata": {},
   "outputs": [
    {
     "data": {
      "text/plain": [
       "['Ankara', 'Konya', 'Kars', 'İzmir', 'Bursa']"
      ]
     },
     "execution_count": 5,
     "metadata": {},
     "output_type": "execute_result"
    }
   ],
   "source": [
    "#extend(metodu ile listeye, tuple, set ve dict nesneleri eklenebilir )\n",
    "list1=[\"Ankara\",\"Konya\",\"Kars\"]\n",
    "tuple1=[\"İzmir\",\"Bursa\"]\n",
    "list1.extend(tuple1)\n",
    "list1"
   ]
  },
  {
   "cell_type": "code",
   "execution_count": 6,
   "id": "d030f449",
   "metadata": {},
   "outputs": [
    {
     "data": {
      "text/plain": [
       "list"
      ]
     },
     "execution_count": 6,
     "metadata": {},
     "output_type": "execute_result"
    }
   ],
   "source": [
    "#değer silme\n",
    "#remove() metodu, belirtilen öğyei siler\n",
    "list.remove(\"İzmir\")\n",
    "#pop() metodu deger vermediğimiz sürece son öğeyi kaldırır\n",
    "#del() fonksiyonu, belirtilen indexi siler\n",
    "#del kelimesi listedeyi tamamen silebilir\n",
    "del(list[1])\n",
    "#del list\n",
    "list"
   ]
  },
  {
   "cell_type": "code",
   "execution_count": 14,
   "id": "978acc14",
   "metadata": {},
   "outputs": [
    {
     "data": {
      "text/plain": [
       "[]"
      ]
     },
     "execution_count": 14,
     "metadata": {},
     "output_type": "execute_result"
    }
   ],
   "source": [
    "#clear()metodu, listeyi boşaltır\n",
    "list.clear()\n",
    "list"
   ]
  },
  {
   "cell_type": "code",
   "execution_count": 11,
   "id": "94573f41",
   "metadata": {},
   "outputs": [
    {
     "name": "stdout",
     "output_type": "stream",
     "text": [
      "Ankara\n",
      "Konya\n",
      "İstanbul\n"
     ]
    }
   ],
   "source": [
    "#listede gezinme\n",
    "#bir döngü kullanılarak liste öğelerini\n",
    "list=[\"Ankara\",\"Konya\",\"İstanbul\"]\n",
    "for x in list:\n",
    "    print(x)\n"
   ]
  },
  {
   "cell_type": "code",
   "execution_count": 16,
   "id": "a6277292",
   "metadata": {},
   "outputs": [
    {
     "name": "stdout",
     "output_type": "stream",
     "text": [
      "Ankara\n",
      "Konya\n",
      "İstanbul\n"
     ]
    }
   ],
   "source": [
    "#index numaralarını kullanılarak liste öğeleri arasında ol\n",
    "for x in range(len(list)):\n",
    "    print(list[x])"
   ]
  },
  {
   "cell_type": "code",
   "execution_count": 4,
   "id": "312dbbf3",
   "metadata": {},
   "outputs": [
    {
     "name": "stdout",
     "output_type": "stream",
     "text": [
      "Ankara\n",
      "Konya\n",
      "İstanbul\n"
     ]
    },
    {
     "data": {
      "text/plain": [
       "[None, None, None]"
      ]
     },
     "execution_count": 4,
     "metadata": {},
     "output_type": "execute_result"
    }
   ],
   "source": [
    "[print(x) for x in list]"
   ]
  },
  {
   "cell_type": "code",
   "execution_count": 6,
   "id": "259b27c4",
   "metadata": {},
   "outputs": [
    {
     "name": "stdout",
     "output_type": "stream",
     "text": [
      "Ankara\n",
      "Konya\n",
      "İstanbul\n"
     ]
    }
   ],
   "source": [
    "x=0\n",
    "while x<len(list):\n",
    "    print(list[x])\n",
    "    x=x+1"
   ]
  },
  {
   "cell_type": "code",
   "execution_count": 7,
   "id": "b8db5c8c",
   "metadata": {},
   "outputs": [
    {
     "name": "stdout",
     "output_type": "stream",
     "text": [
      "['İstanbul']\n"
     ]
    }
   ],
   "source": [
    "#liste anlama \n",
    "# liste anlamayla, mevcut bir listenin değerlerine dayalı olarak yeni bir liste oluşturulabilir\n",
    "newList=[]\n",
    "for x in list:\n",
    "    if \"b\"in x:\n",
    "        newList.append(x)\n",
    "print(newList)"
   ]
  },
  {
   "cell_type": "code",
   "execution_count": 9,
   "id": "25e07dc9",
   "metadata": {},
   "outputs": [
    {
     "data": {
      "text/plain": [
       "['Ankara', 'Konya', 'İstanbul']"
      ]
     },
     "execution_count": 9,
     "metadata": {},
     "output_type": "execute_result"
    }
   ],
   "source": [
    "newList=[x for x in list if \"a\" in x]\n",
    "newList"
   ]
  },
  {
   "cell_type": "code",
   "execution_count": 21,
   "id": "26f7af68",
   "metadata": {},
   "outputs": [
    {
     "data": {
      "text/plain": [
       "[0, 1, 2, 3, 4]"
      ]
     },
     "execution_count": 21,
     "metadata": {},
     "output_type": "execute_result"
    }
   ],
   "source": [
    "#newList=list  yaptığımızda bellekte yeni alan ayrılmıyor ve biz listede değişiklik yaptığımızda newListe de değişiklik olur\n",
    "#range()fonksiyonu kullanılarak yinelenebilir bir liste oluşturulabilir\n",
    "list2=[x for x in range(10) if x<5]\n",
    "list2"
   ]
  },
  {
   "cell_type": "code",
   "execution_count": 23,
   "id": "369358a1",
   "metadata": {},
   "outputs": [
    {
     "data": {
      "text/plain": [
       "['ANKARA', 'KONYA', 'İSTANBUL']"
      ]
     },
     "execution_count": 23,
     "metadata": {},
     "output_type": "execute_result"
    }
   ],
   "source": [
    "upperList=[x.upper() for x in list]\n",
    "upperList"
   ]
  },
  {
   "cell_type": "code",
   "execution_count": 24,
   "id": "48422c21",
   "metadata": {},
   "outputs": [
    {
     "data": {
      "text/plain": [
       "['merhaba', 'merhaba', 'merhaba']"
      ]
     },
     "execution_count": 24,
     "metadata": {},
     "output_type": "execute_result"
    }
   ],
   "source": [
    "merhabaList=[\"merhaba\" for x in list]\n",
    "merhabaList"
   ]
  },
  {
   "cell_type": "code",
   "execution_count": 25,
   "id": "9f395385",
   "metadata": {},
   "outputs": [
    {
     "data": {
      "text/plain": [
       "['Ankara', 'İzmir', 'İstanbul']"
      ]
     },
     "execution_count": 25,
     "metadata": {},
     "output_type": "execute_result"
    }
   ],
   "source": [
    "newList1=[x if x!=\"Konya\" else \"İzmir\" for x in list]\n",
    "newList1"
   ]
  },
  {
   "cell_type": "code",
   "execution_count": 28,
   "id": "a49fbd85",
   "metadata": {},
   "outputs": [],
   "source": [
    "#listede sıralama\n",
    "list.sort()\n",
    "list\n",
    "#büyük harfleri öne alıyor\n",
    "list.sort(key=str.lower)#büyük küçük harflere dikkat etmesin demek için\n",
    "list.sort(reverse=True)#tersten sıralama"
   ]
  },
  {
   "cell_type": "code",
   "execution_count": 29,
   "id": "b928632f",
   "metadata": {},
   "outputs": [
    {
     "data": {
      "text/plain": [
       "['Ankara', 'Konya', 'İstanbul']"
      ]
     },
     "execution_count": 29,
     "metadata": {},
     "output_type": "execute_result"
    }
   ],
   "source": [
    "#listeyi tersten okuma\n",
    "list.reverse()\n",
    "list"
   ]
  },
  {
   "cell_type": "code",
   "execution_count": 30,
   "id": "ead62e4a",
   "metadata": {},
   "outputs": [
    {
     "data": {
      "text/plain": [
       "['Ankara', 'Konya', 'İstanbul']"
      ]
     },
     "execution_count": 30,
     "metadata": {},
     "output_type": "execute_result"
    }
   ],
   "source": [
    "#listeyi kopyala\n",
    "\"\"\"\n",
    "Bir listeyi yalnızca yazarak kopyalamzsınız list2=list1, bu sadece list1\n",
    "öğesine bir başvuru olur. list1 içinde yapılan değişiklikler list2 içinde \n",
    "de otomatik olarak yapılacaktır\n",
    "\"\"\"\n",
    "newList=list.copy() #copy metodu bir listenin kopyasını oluşturur\n",
    "newList"
   ]
  },
  {
   "cell_type": "code",
   "execution_count": 19,
   "id": "f9c4b739",
   "metadata": {},
   "outputs": [
    {
     "ename": "TypeError",
     "evalue": "'list' object is not callable",
     "output_type": "error",
     "traceback": [
      "\u001b[0;31m---------------------------------------------------------------------------\u001b[0m",
      "\u001b[0;31mTypeError\u001b[0m                                 Traceback (most recent call last)",
      "\u001b[0;32m/var/folders/kp/6q57p5qj75v7krbh1nrb36gm0000gn/T/ipykernel_1065/1222576560.py\u001b[0m in \u001b[0;36m<module>\u001b[0;34m\u001b[0m\n\u001b[1;32m      1\u001b[0m \u001b[0;31m# list() yapıcısı kullanarak bir listenin kopyasını oluşturma\u001b[0m\u001b[0;34m\u001b[0m\u001b[0;34m\u001b[0m\u001b[0m\n\u001b[1;32m      2\u001b[0m \u001b[0mmylist\u001b[0m\u001b[0;34m=\u001b[0m\u001b[0;34m[\u001b[0m\u001b[0;34m\"ankara\"\u001b[0m\u001b[0;34m,\u001b[0m\u001b[0;34m\"Konya\"\u001b[0m\u001b[0;34m,\u001b[0m\u001b[0;34m\"izmir\"\u001b[0m\u001b[0;34m]\u001b[0m\u001b[0;34m\u001b[0m\u001b[0;34m\u001b[0m\u001b[0m\n\u001b[0;32m----> 3\u001b[0;31m \u001b[0mnewList1\u001b[0m\u001b[0;34m=\u001b[0m\u001b[0mlist\u001b[0m\u001b[0;34m(\u001b[0m\u001b[0mmylist\u001b[0m\u001b[0;34m)\u001b[0m\u001b[0;34m\u001b[0m\u001b[0;34m\u001b[0m\u001b[0m\n\u001b[0m\u001b[1;32m      4\u001b[0m \u001b[0mprint\u001b[0m\u001b[0;34m(\u001b[0m\u001b[0mnewList1\u001b[0m\u001b[0;34m)\u001b[0m\u001b[0;34m\u001b[0m\u001b[0;34m\u001b[0m\u001b[0m\n",
      "\u001b[0;31mTypeError\u001b[0m: 'list' object is not callable"
     ]
    }
   ],
   "source": [
    "# list() yapıcısı kullanarak bir listenin kopyasını oluşturma\n",
    "mylist=[\"ankara\",\"Konya\",\"izmir\"]\n",
    "newList1=list(mylist)\n",
    "print(newList1)"
   ]
  },
  {
   "cell_type": "code",
   "execution_count": 20,
   "id": "b7762db0",
   "metadata": {},
   "outputs": [
    {
     "data": {
      "text/plain": [
       "['a', 'b', 'c', 1, 2, 3]"
      ]
     },
     "execution_count": 20,
     "metadata": {},
     "output_type": "execute_result"
    }
   ],
   "source": [
    "# Listeleri birleştirme\n",
    "# en kolay yollardan biri + operatörü kullanmaktır\n",
    "list1=[\"a\",\"b\",\"c\"]\n",
    "list2=[1,2,3]\n",
    "list3=list1+list2\n",
    "list3"
   ]
  },
  {
   "cell_type": "code",
   "execution_count": 21,
   "id": "46ad6da4",
   "metadata": {},
   "outputs": [
    {
     "data": {
      "text/plain": [
       "['a', 'b', 'c', 1, 2, 3]"
      ]
     },
     "execution_count": 21,
     "metadata": {},
     "output_type": "execute_result"
    }
   ],
   "source": [
    "# iki listeni birleştirmenin başka bir yolu da list2'deki tüm ögeleri list1'e tek eklemektir\n",
    "for x in list2:\n",
    "    list1.append(x)\n",
    "list1"
   ]
  },
  {
   "cell_type": "code",
   "execution_count": 22,
   "id": "581360ef",
   "metadata": {},
   "outputs": [
    {
     "data": {
      "text/plain": [
       "['a', 'b', 'c', 1, 2, 3, 1, 2, 3]"
      ]
     },
     "execution_count": 22,
     "metadata": {},
     "output_type": "execute_result"
    }
   ],
   "source": [
    "# extend() metodu, list1in sonuna list2 eklemek için kullanılır\n",
    "list1.extend(list2)\n",
    "list1"
   ]
  },
  {
   "cell_type": "code",
   "execution_count": null,
   "id": "53613dfd",
   "metadata": {},
   "outputs": [],
   "source": []
  }
 ],
 "metadata": {
  "kernelspec": {
   "display_name": "Python 3 (ipykernel)",
   "language": "python",
   "name": "python3"
  },
  "language_info": {
   "codemirror_mode": {
    "name": "ipython",
    "version": 3
   },
   "file_extension": ".py",
   "mimetype": "text/x-python",
   "name": "python",
   "nbconvert_exporter": "python",
   "pygments_lexer": "ipython3",
   "version": "3.9.7"
  }
 },
 "nbformat": 4,
 "nbformat_minor": 5
}

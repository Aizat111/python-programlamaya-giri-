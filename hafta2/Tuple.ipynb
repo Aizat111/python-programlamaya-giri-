{
 "cells": [
  {
   "cell_type": "code",
   "execution_count": null,
   "id": "ab68bc48",
   "metadata": {},
   "outputs": [],
   "source": [
    "\"\"\"\n",
    "tuple öğeleri indexlenir\n",
    "tuple öğeleri sıralanır, değiştirilemez ve yinelenen değerlere izin verir\n",
    "tuple'lar oluşturulduktan sonra değerleri değiştirlemezler,ekleyemez veya çıkaramayız\n",
    "tuple'lar yuvarlak parantez ile yazılır\n",
    "\"\"\""
   ]
  },
  {
   "cell_type": "code",
   "execution_count": 3,
   "id": "5218a874",
   "metadata": {},
   "outputs": [
    {
     "name": "stdout",
     "output_type": "stream",
     "text": [
      "<class 'tuple'>\n"
     ]
    }
   ],
   "source": [
    "#yalnızca bir öğe içeren bir demet oluşturmak için, öğeden sonra bir virgül eklemeniz gerekir,\n",
    "#aksi takdirde Python onu bir demet olarak tanımaz\n",
    "tuple1=(\"Konya\",)\n",
    "print(type(tuple1))"
   ]
  },
  {
   "cell_type": "code",
   "execution_count": null,
   "id": "44d4f25b",
   "metadata": {},
   "outputs": [],
   "source": [
    "# bir demet farklı veri türleri içerebilir\n",
    "tuple2=(\"abc\",34,True,40,\"male\")"
   ]
  },
  {
   "cell_type": "code",
   "execution_count": 4,
   "id": "4c18f8c7",
   "metadata": {},
   "outputs": [],
   "source": [
    "# bir demet oluşturmak için tuple() yapıcısını kullanmak da mümkündür\n",
    "tuple3=tuple((\"Ankara\",\"Konya\",\"İstanbul\"))"
   ]
  },
  {
   "cell_type": "code",
   "execution_count": null,
   "id": "39479536",
   "metadata": {},
   "outputs": [],
   "source": [
    "# in anahtar sözcüğü, bir demette belirli bir öğenin bulunup bulunmadaığını belirlemek için kullanılır\n"
   ]
  },
  {
   "cell_type": "code",
   "execution_count": null,
   "id": "c1c4b318",
   "metadata": {},
   "outputs": [],
   "source": [
    "# tuple değiştirme, ekleme, silme\n",
    "\"\"\"\n",
    "tuple'lar değiştirilemez. Ama bir geçici çözümü vardır. Tuple bir listeye dönüştürülenilir, liste\n",
    "değiştirilir, ekleme ve silme yapılır ve yeni liste tekrar bir tuple'a dönüştürülebilir.\n",
    "\"\"\""
   ]
  },
  {
   "cell_type": "code",
   "execution_count": 5,
   "id": "d0275a83",
   "metadata": {},
   "outputs": [
    {
     "data": {
      "text/plain": [
       "('Konya', 'Ankara', 'Konya', 'İstanbul')"
      ]
     },
     "execution_count": 5,
     "metadata": {},
     "output_type": "execute_result"
    }
   ],
   "source": [
    "# tuple ekleme\n",
    "tuple1+=tuple3\n",
    "tuple1"
   ]
  },
  {
   "cell_type": "code",
   "execution_count": 6,
   "id": "3adc4d3a",
   "metadata": {},
   "outputs": [
    {
     "data": {
      "text/plain": [
       "('Konya',\n",
       " 'Ankara',\n",
       " 'Konya',\n",
       " 'İstanbul',\n",
       " 'Konya',\n",
       " 'Ankara',\n",
       " 'Konya',\n",
       " 'İstanbul')"
      ]
     },
     "execution_count": 6,
     "metadata": {},
     "output_type": "execute_result"
    }
   ],
   "source": [
    "# tuple çarpma\n",
    "tuple2=tuple1*2\n",
    "tuple2"
   ]
  },
  {
   "cell_type": "code",
   "execution_count": 7,
   "id": "10172dbe",
   "metadata": {},
   "outputs": [
    {
     "ename": "NameError",
     "evalue": "name 'tuple2' is not defined",
     "output_type": "error",
     "traceback": [
      "\u001b[0;31m---------------------------------------------------------------------------\u001b[0m",
      "\u001b[0;31mNameError\u001b[0m                                 Traceback (most recent call last)",
      "\u001b[0;32m/var/folders/kp/6q57p5qj75v7krbh1nrb36gm0000gn/T/ipykernel_1446/3717299451.py\u001b[0m in \u001b[0;36m<module>\u001b[0;34m\u001b[0m\n\u001b[1;32m      1\u001b[0m \u001b[0;31m# tuple silme\u001b[0m\u001b[0;34m\u001b[0m\u001b[0;34m\u001b[0m\u001b[0m\n\u001b[1;32m      2\u001b[0m \u001b[0;32mdel\u001b[0m \u001b[0mtuple2\u001b[0m\u001b[0;34m\u001b[0m\u001b[0;34m\u001b[0m\u001b[0m\n\u001b[0;32m----> 3\u001b[0;31m \u001b[0mtuple2\u001b[0m\u001b[0;34m\u001b[0m\u001b[0;34m\u001b[0m\u001b[0m\n\u001b[0m",
      "\u001b[0;31mNameError\u001b[0m: name 'tuple2' is not defined"
     ]
    }
   ],
   "source": [
    "# tuple silme\n",
    "del tuple2\n",
    "tuple2"
   ]
  },
  {
   "cell_type": "code",
   "execution_count": 8,
   "id": "237a88aa",
   "metadata": {},
   "outputs": [
    {
     "name": "stdout",
     "output_type": "stream",
     "text": [
      "Ankara\n",
      "Konya\n",
      "İstanbul\n"
     ]
    }
   ],
   "source": [
    "# tuple unpack\n",
    "# tuple değerlerini değişkenlere alabiliriz\n",
    "tuple1=(\"Ankara\",\"Konya\",\"İstanbul\")\n",
    "(x,y,z)=tuple1\n",
    "print(x)\n",
    "print(y)\n",
    "print(z)"
   ]
  },
  {
   "cell_type": "code",
   "execution_count": 10,
   "id": "218437e4",
   "metadata": {},
   "outputs": [
    {
     "name": "stdout",
     "output_type": "stream",
     "text": [
      "Ankara\n",
      "Konya\n",
      "['İstanbul', 'İzmir', 'Bursa']\n"
     ]
    }
   ],
   "source": [
    "\"\"\"\n",
    "değişkenlerin sayısı değerlerin sayısıyla eşit olmalaıdır, eşit değilse, kalan\n",
    "değerleri bir liste olarak toplamak için bir yıldız işareti kullanmak gerekir.\n",
    "\"\"\"\n",
    "tuple1=(\"Ankara\",\"Konya\",\"İstanbul\",\"İzmir\",\"Bursa\")\n",
    "(x,y,*z)=tuple1\n",
    "print(x)\n",
    "print(y)\n",
    "print(z)"
   ]
  },
  {
   "cell_type": "code",
   "execution_count": null,
   "id": "a200da00",
   "metadata": {},
   "outputs": [],
   "source": [
    "# count()- verilen değerden ne kadar olduğunu gösterir \n",
    "x=tuple1.count(\"Ankara\")"
   ]
  }
 ],
 "metadata": {
  "kernelspec": {
   "display_name": "Python 3 (ipykernel)",
   "language": "python",
   "name": "python3"
  },
  "language_info": {
   "codemirror_mode": {
    "name": "ipython",
    "version": 3
   },
   "file_extension": ".py",
   "mimetype": "text/x-python",
   "name": "python",
   "nbconvert_exporter": "python",
   "pygments_lexer": "ipython3",
   "version": "3.9.7"
  }
 },
 "nbformat": 4,
 "nbformat_minor": 5
}

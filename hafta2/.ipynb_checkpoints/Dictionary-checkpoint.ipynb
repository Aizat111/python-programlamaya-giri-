{
 "cells": [
  {
   "cell_type": "code",
   "execution_count": null,
   "id": "4e6a3c3f",
   "metadata": {},
   "outputs": [],
   "source": [
    "\"\"\"\n",
    "Sözlük sıralı, değiştirilebilir ve yinelemeler izin vermez\n",
    "Python 3.7 sürümünden itibaren sözlükler sırlanmıştur. Python 3.6 sürümğnden önceki sürümlerde sözlükler sırasızdır.\n",
    "Sözlükler küme parantei ile yazılır ve anahtar kelimelere sahiptir\n",
    "\"\"\""
   ]
  },
  {
   "cell_type": "code",
   "execution_count": 9,
   "id": "a6ce519a",
   "metadata": {},
   "outputs": [
    {
     "name": "stdout",
     "output_type": "stream",
     "text": [
      "{'brand': 'Ford', 'model': 'Mustang', 'year': 2020}\n"
     ]
    }
   ],
   "source": [
    "# yinelenen değerler, mevcut değerlerim üzerine yazar.\n",
    "dict1={\n",
    "    \"brand\":\"Ford\",\n",
    "    \"model\":\"Mustang\",\n",
    "    \"year\":1964,\n",
    "    \"year\":2020\n",
    "}\n",
    "print(dict1)"
   ]
  },
  {
   "cell_type": "code",
   "execution_count": 10,
   "id": "3ad61788",
   "metadata": {},
   "outputs": [
    {
     "data": {
      "text/plain": [
       "3"
      ]
     },
     "execution_count": 10,
     "metadata": {},
     "output_type": "execute_result"
    }
   ],
   "source": [
    "# len öğe sayısını verir\n",
    "len(dict1)"
   ]
  },
  {
   "cell_type": "code",
   "execution_count": 12,
   "id": "de2956d1",
   "metadata": {},
   "outputs": [
    {
     "name": "stdout",
     "output_type": "stream",
     "text": [
      "dict_keys(['brand', 'model', 'year'])\n",
      "dict_values(['Ford', 'Mustang', 2020])\n",
      "dict_items([('brand', 'Ford'), ('model', 'Mustang'), ('year', 2020)])\n"
     ]
    }
   ],
   "source": [
    "print(dict1.keys())\n",
    "print(dict1.values())\n",
    "print(dict1.items())"
   ]
  },
  {
   "cell_type": "code",
   "execution_count": null,
   "id": "45f7d81f",
   "metadata": {},
   "outputs": [],
   "source": [
    "# Sözlükte bir değişim olduğunda anahtar ve değerler listesine otomatik olarak yansır"
   ]
  },
  {
   "cell_type": "code",
   "execution_count": 13,
   "id": "bd047dc4",
   "metadata": {},
   "outputs": [
    {
     "name": "stdout",
     "output_type": "stream",
     "text": [
      "model anahtarı mevcut\n"
     ]
    }
   ],
   "source": [
    "# in anahtar sözcüğü, bir sözlükte belirtilen bir anahtarın bulunup bulunmadığını belirleyebilir.\n",
    "if \"model\" in dict1:\n",
    "    print(\"model anahtarı mevcut\")"
   ]
  },
  {
   "cell_type": "code",
   "execution_count": 14,
   "id": "6e5b43bd",
   "metadata": {},
   "outputs": [],
   "source": [
    "# sözlük ekleme ve değiştirme\n",
    "dict1[\"color\"]=\"black\"\n",
    "dict1"
   ]
  },
  {
   "cell_type": "code",
   "execution_count": 16,
   "id": "7b9466c1",
   "metadata": {},
   "outputs": [
    {
     "data": {
      "text/plain": [
       "{'brand': 'Ford', 'model': 'Mustang', 'year': 2022, 'color': 'black'}"
      ]
     },
     "execution_count": 16,
     "metadata": {},
     "output_type": "execute_result"
    }
   ],
   "source": [
    "# update() metodu kullanılarak bir öğenin değeri değişebilir, eğer öğe yoksa sözlüğe eklenir\n",
    "dict1.update({\"year\":2022})\n",
    "dict1\n"
   ]
  },
  {
   "cell_type": "code",
   "execution_count": 17,
   "id": "f950180a",
   "metadata": {},
   "outputs": [
    {
     "data": {
      "text/plain": [
       "{'brand': 'Ford', 'year': 2022, 'color': 'black'}"
      ]
     },
     "execution_count": 17,
     "metadata": {},
     "output_type": "execute_result"
    }
   ],
   "source": [
    "# sözlük silme\n",
    "# pop() metodu , belirtilen anahtar adına sahip öğeyi siler\n",
    "dict1.pop(\"model\")\n",
    "dict1"
   ]
  },
  {
   "cell_type": "code",
   "execution_count": 18,
   "id": "a51e7a5e",
   "metadata": {},
   "outputs": [
    {
     "data": {
      "text/plain": [
       "{'brand': 'Ford', 'year': 2022}"
      ]
     },
     "execution_count": 18,
     "metadata": {},
     "output_type": "execute_result"
    }
   ],
   "source": [
    "#popitem() metodu, son eklenen öğeyi siler\n",
    "dict1.popitem()\n",
    "dict1"
   ]
  },
  {
   "cell_type": "code",
   "execution_count": 19,
   "id": "b25f2e22",
   "metadata": {},
   "outputs": [],
   "source": [
    "# del fonksiyonu, belirtilen anahtar adına sahip öğeyi siler veya sözlüğü tamamen siler.\n",
    "del dict1[\"year\"]"
   ]
  },
  {
   "cell_type": "code",
   "execution_count": null,
   "id": "bdbb5b45",
   "metadata": {},
   "outputs": [],
   "source": [
    "# clear() metodu sözlüğü temizler"
   ]
  },
  {
   "cell_type": "code",
   "execution_count": null,
   "id": "5abe8d5c",
   "metadata": {},
   "outputs": [],
   "source": [
    "# sözlük kopyalama\n",
    "# copy() metodu bir sözcüğü kopyalar.Yeni kopya yarı bir sözlük olur"
   ]
  }
 ],
 "metadata": {
  "kernelspec": {
   "display_name": "Python 3 (ipykernel)",
   "language": "python",
   "name": "python3"
  },
  "language_info": {
   "codemirror_mode": {
    "name": "ipython",
    "version": 3
   },
   "file_extension": ".py",
   "mimetype": "text/x-python",
   "name": "python",
   "nbconvert_exporter": "python",
   "pygments_lexer": "ipython3",
   "version": "3.9.7"
  }
 },
 "nbformat": 4,
 "nbformat_minor": 5
}

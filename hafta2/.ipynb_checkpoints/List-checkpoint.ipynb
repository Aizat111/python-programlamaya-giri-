{
 "cells": [
  {
   "cell_type": "code",
   "execution_count": 1,
   "id": "be9b7c46",
   "metadata": {},
   "outputs": [
    {
     "data": {
      "text/plain": [
       "['Ankara', 'Konya', 'İstanbul']"
      ]
     },
     "execution_count": 1,
     "metadata": {},
     "output_type": "execute_result"
    }
   ],
   "source": [
    "#list()yapıcısı ile de yeni bir liste oluşturulur\n",
    "list=list((\"Ankara\",\"Konya\",\"İstanbul\"))\n",
    "list"
   ]
  },
  {
   "cell_type": "code",
   "execution_count": 2,
   "id": "d0551b59",
   "metadata": {},
   "outputs": [
    {
     "name": "stdout",
     "output_type": "stream",
     "text": [
      "3\n"
     ]
    }
   ],
   "source": [
    "#listenin uzunluğunu görmek için\n",
    "print(len(list))"
   ]
  },
  {
   "cell_type": "code",
   "execution_count": 3,
   "id": "a7419f5c",
   "metadata": {},
   "outputs": [
    {
     "name": "stdout",
     "output_type": "stream",
     "text": [
      "İstanbul\n"
     ]
    }
   ],
   "source": [
    "#negatif indexleme\n",
    "print(list[-1])"
   ]
  },
  {
   "cell_type": "code",
   "execution_count": 6,
   "id": "9b4e4ba5",
   "metadata": {},
   "outputs": [
    {
     "data": {
      "text/plain": [
       "['abc', 34, True, 40, 'male']"
      ]
     },
     "execution_count": 6,
     "metadata": {},
     "output_type": "execute_result"
    }
   ],
   "source": [
    "#bir liste farklı veri türlerli içerebilir\n",
    "list1=[\"abc\",34,True,40,\"male\"]\n",
    "list1"
   ]
  },
  {
   "cell_type": "code",
   "execution_count": null,
   "id": "cd1f519f",
   "metadata": {},
   "outputs": [],
   "source": [
    "#liste öğelerine istenilen aralıklarda erişilebilir. Başlangıç indeksi dahil, bitiş indexi dahil değildir.\n",
    "print(list[1:3])\n",
    "print(list[:3]) #en baştan 3e kadar\n",
    "print(list[1:])#1den sona kadar\n",
    "print(list[-4:-1])"
   ]
  },
  {
   "cell_type": "code",
   "execution_count": 7,
   "id": "98645a95",
   "metadata": {},
   "outputs": [
    {
     "name": "stdout",
     "output_type": "stream",
     "text": [
      "Konya listede var\n"
     ]
    }
   ],
   "source": [
    "#in anahtar kelimesi ile listede belirtilen bir öğenin olup olmadığı belirlenir\n",
    "if \"Konya\" in list:\n",
    "    print(\"Konya listede var\")"
   ]
  },
  {
   "cell_type": "code",
   "execution_count": 9,
   "id": "93a20a84",
   "metadata": {},
   "outputs": [
    {
     "data": {
      "text/plain": [
       "['Ankara', 'Konya', 'İzmir', 'İzmir', 'İstanbul', 'Bursa']"
      ]
     },
     "execution_count": 9,
     "metadata": {},
     "output_type": "execute_result"
    }
   ],
   "source": [
    "#değer ekleme\n",
    "#insert() metodu kullanilir. Belirtilen indexe öğeyi ekler. Liste büyür\n",
    "list.insert(2,\"İzmir\")\n",
    "list\n",
    "#append medtodu, listenin sonuna ekle\n",
    "list.append(\"Bursa\")\n",
    "list\n",
    "#extend(metodu ile listeye, tuple, set )"
   ]
  },
  {
   "cell_type": "code",
   "execution_count": 12,
   "id": "d030f449",
   "metadata": {},
   "outputs": [
    {
     "data": {
      "text/plain": [
       "['Ankara', 'İstanbul', 'Bursa']"
      ]
     },
     "execution_count": 12,
     "metadata": {},
     "output_type": "execute_result"
    }
   ],
   "source": [
    "#değer silme\n",
    "#remove() metodu, belirtilen öğyei siler\n",
    "list.remove(\"İzmir\")\n",
    "#pop() metodu deger vermediğimiz sürece son öğeyi kaldırır\n",
    "#del() fonksiyonu, belirtilen indexi siler\n",
    "#del kelimesi listedeyi tamamen silebilir\n",
    "del(list[1])\n",
    "list"
   ]
  },
  {
   "cell_type": "code",
   "execution_count": 14,
   "id": "978acc14",
   "metadata": {},
   "outputs": [
    {
     "data": {
      "text/plain": [
       "[]"
      ]
     },
     "execution_count": 14,
     "metadata": {},
     "output_type": "execute_result"
    }
   ],
   "source": [
    "#clear()metodu, listeyi boşaltır\n",
    "list.clear()\n",
    "list"
   ]
  },
  {
   "cell_type": "code",
   "execution_count": 15,
   "id": "94573f41",
   "metadata": {},
   "outputs": [
    {
     "name": "stdout",
     "output_type": "stream",
     "text": [
      "Ankara\n",
      "Konya\n",
      "İstanbul\n"
     ]
    }
   ],
   "source": [
    "#listede gezinme\n",
    "#bir döngü kullanılarak liste öğelerini\n",
    "list=[\"Ankara\",\"Konya\",\"İstanbul\"]\n",
    "for x in list:\n",
    "    print(x)\n"
   ]
  },
  {
   "cell_type": "code",
   "execution_count": 16,
   "id": "a6277292",
   "metadata": {},
   "outputs": [
    {
     "name": "stdout",
     "output_type": "stream",
     "text": [
      "Ankara\n",
      "Konya\n",
      "İstanbul\n"
     ]
    }
   ],
   "source": [
    "#index numaralarını kullanılarak liste öğeleri arasında ol\n",
    "for x in range(len(list)):\n",
    "    print(list[x])"
   ]
  },
  {
   "cell_type": "code",
   "execution_count": 17,
   "id": "259b27c4",
   "metadata": {},
   "outputs": [
    {
     "name": "stdout",
     "output_type": "stream",
     "text": [
      "İstanbul\n"
     ]
    }
   ],
   "source": [
    "while x<len(list):\n",
    "    print(list[x])\n",
    "    x=x+1"
   ]
  },
  {
   "cell_type": "code",
   "execution_count": 19,
   "id": "b8db5c8c",
   "metadata": {},
   "outputs": [
    {
     "name": "stdout",
     "output_type": "stream",
     "text": [
      "['İstanbul']\n"
     ]
    }
   ],
   "source": [
    "#liste anlama \n",
    "newList=[]\n",
    "for x in list:\n",
    "    if \"b\"in x:\n",
    "        newList.append(x)\n",
    "print(newList)"
   ]
  },
  {
   "cell_type": "code",
   "execution_count": 22,
   "id": "25e07dc9",
   "metadata": {},
   "outputs": [],
   "source": [
    "newList=[x for x in list if \"a\" in x]"
   ]
  },
  {
   "cell_type": "code",
   "execution_count": 21,
   "id": "26f7af68",
   "metadata": {},
   "outputs": [
    {
     "data": {
      "text/plain": [
       "[0, 1, 2, 3, 4]"
      ]
     },
     "execution_count": 21,
     "metadata": {},
     "output_type": "execute_result"
    }
   ],
   "source": [
    "#newList=list  yaptığımızda bellekte yeni alan ayrılmıyor ve biz listede değişiklik yaptığımızda newListe de değişiklik olur\n",
    "#range()fonksiyonu kullanılarak yinelenebilir bir liste oluşturulabilir\n",
    "list2=[x for x in range(10) if x<5]\n",
    "list2"
   ]
  },
  {
   "cell_type": "code",
   "execution_count": 23,
   "id": "369358a1",
   "metadata": {},
   "outputs": [
    {
     "data": {
      "text/plain": [
       "['ANKARA', 'KONYA', 'İSTANBUL']"
      ]
     },
     "execution_count": 23,
     "metadata": {},
     "output_type": "execute_result"
    }
   ],
   "source": [
    "upperList=[x.upper() for x in list]\n",
    "upperList"
   ]
  },
  {
   "cell_type": "code",
   "execution_count": 24,
   "id": "48422c21",
   "metadata": {},
   "outputs": [
    {
     "data": {
      "text/plain": [
       "['merhaba', 'merhaba', 'merhaba']"
      ]
     },
     "execution_count": 24,
     "metadata": {},
     "output_type": "execute_result"
    }
   ],
   "source": [
    "merhabaList=[\"merhaba\" for x in list]\n",
    "merhabaList"
   ]
  },
  {
   "cell_type": "code",
   "execution_count": 25,
   "id": "9f395385",
   "metadata": {},
   "outputs": [
    {
     "data": {
      "text/plain": [
       "['Ankara', 'İzmir', 'İstanbul']"
      ]
     },
     "execution_count": 25,
     "metadata": {},
     "output_type": "execute_result"
    }
   ],
   "source": [
    "newList1=[x if x!=\"Konya\" else \"İzmir\" for x in list]\n",
    "newList1"
   ]
  },
  {
   "cell_type": "code",
   "execution_count": 28,
   "id": "a49fbd85",
   "metadata": {},
   "outputs": [],
   "source": [
    "#listede sıralama\n",
    "list.sort()\n",
    "list\n",
    "#büyük harfleri öne alıyor\n",
    "list.sort(key=str.lower)#büyük küçük dikkat etmesin demek için\n",
    "list.sort(reverse=True)#tersten sıralama"
   ]
  },
  {
   "cell_type": "code",
   "execution_count": 29,
   "id": "b928632f",
   "metadata": {},
   "outputs": [
    {
     "data": {
      "text/plain": [
       "['Ankara', 'Konya', 'İstanbul']"
      ]
     },
     "execution_count": 29,
     "metadata": {},
     "output_type": "execute_result"
    }
   ],
   "source": [
    "#listeyi tersten okuma\n",
    "list.reverse()\n",
    "list"
   ]
  },
  {
   "cell_type": "code",
   "execution_count": 30,
   "id": "ead62e4a",
   "metadata": {},
   "outputs": [
    {
     "data": {
      "text/plain": [
       "['Ankara', 'Konya', 'İstanbul']"
      ]
     },
     "execution_count": 30,
     "metadata": {},
     "output_type": "execute_result"
    }
   ],
   "source": [
    "#listeyi kopyala\n",
    "newList=list.copy()\n",
    "newList"
   ]
  },
  {
   "cell_type": "code",
   "execution_count": null,
   "id": "b7762db0",
   "metadata": {},
   "outputs": [],
   "source": []
  }
 ],
 "metadata": {
  "kernelspec": {
   "display_name": "Python 3 (ipykernel)",
   "language": "python",
   "name": "python3"
  },
  "language_info": {
   "codemirror_mode": {
    "name": "ipython",
    "version": 3
   },
   "file_extension": ".py",
   "mimetype": "text/x-python",
   "name": "python",
   "nbconvert_exporter": "python",
   "pygments_lexer": "ipython3",
   "version": "3.9.7"
  }
 },
 "nbformat": 4,
 "nbformat_minor": 5
}

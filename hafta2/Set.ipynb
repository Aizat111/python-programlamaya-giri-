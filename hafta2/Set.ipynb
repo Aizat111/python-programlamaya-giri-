{
 "cells": [
  {
   "cell_type": "code",
   "execution_count": null,
   "id": "e2239194",
   "metadata": {},
   "outputs": [],
   "source": [
    "\"\"\"\n",
    "Kümeler sırasızdır, onları her kullandığınızda farklı bir sırada görünebilir\n",
    "ve indeks veya anahtar ile referans alınamaz\n",
    "Kümeler değiştirilemez veya yinelenen değerlere izin vermez\n",
    "Kümeler değiştirilemez , ancak öğeleri kaldırılabilir ve yeni öğeler eklenebilir\n",
    "Kümeler küme parantezleri ile yazılır\n",
    "Kümeler her türlü veri alabilir\n",
    "Bir küme oluşturmak için set() yapıcısını kullanmak da mümkündür\n",
    "Küme öğelerne in anahtar sözcüğü, döngüde kullanılarak erişilebilir\n",
    "\n",
    "\"\"\""
   ]
  },
  {
   "cell_type": "code",
   "execution_count": 3,
   "id": "c778f0b1",
   "metadata": {},
   "outputs": [
    {
     "data": {
      "text/plain": [
       "{'Ankara', 'Bursa', 'İstanbul', 'İzmir'}"
      ]
     },
     "execution_count": 3,
     "metadata": {},
     "output_type": "execute_result"
    }
   ],
   "source": [
    "# Bir kümeye bir öğe eklemek için add() metodu kullanılabilir\n",
    "set1={\"Ankara\",\"Bursa\",\"İzmir\"}\n",
    "set1.add(\"İstanbul\")\n",
    "set1"
   ]
  },
  {
   "cell_type": "code",
   "execution_count": 8,
   "id": "b460403e",
   "metadata": {},
   "outputs": [
    {
     "data": {
      "text/plain": [
       "{'apple', 'banana', 'orange', 'peach', 'pear'}"
      ]
     },
     "execution_count": 8,
     "metadata": {},
     "output_type": "execute_result"
    }
   ],
   "source": [
    "# bir kümeye başka bir kümeden öğeler eklemek için update() metodu kullanılabilir\n",
    "set2={\"apple\",\"banana\",\"orange\"}\n",
    "set3={\"pear\",\"peach\"}\n",
    "set2.update(set3)\n",
    "set2\n"
   ]
  },
  {
   "cell_type": "code",
   "execution_count": 7,
   "id": "9d601e7b",
   "metadata": {},
   "outputs": [
    {
     "data": {
      "text/plain": [
       "{'apple', 'banana', 'melon', 'orange', 'watermelon'}"
      ]
     },
     "execution_count": 7,
     "metadata": {},
     "output_type": "execute_result"
    }
   ],
   "source": [
    "# update() metodundaki nesnenin bir küme olması gerekmez, yinelenebilir herhangi bir nesne olabilir\n",
    "list1=[\"watermelon\",\"melon\"]\n",
    "set2.update(list1)\n",
    "set2"
   ]
  },
  {
   "cell_type": "code",
   "execution_count": null,
   "id": "43a5aac9",
   "metadata": {},
   "outputs": [],
   "source": [
    "# Küme silme\n",
    "\"\"\"\n",
    "Bir kümedeki bir öğeyi kaldırmak için remove() veya discard() metodları kullanılabilir\n",
    "remove()-silinecek öğe yoksa hata verir\n",
    "discard()-silinecek öğe yoksa hata vermez\n",
    "pop() son öğeyi kaldırır. Ancak kümeler sırasız olduğu için hangi öğenin kaldırılacağı belli olmaz\n",
    "clear() kümeyi temizler\n",
    "del() kümeyi tamamen siler ve sonrasında hata verir\n",
    "\"\"\""
   ]
  },
  {
   "cell_type": "code",
   "execution_count": null,
   "id": "12b07b65",
   "metadata": {},
   "outputs": [],
   "source": [
    "# Kümeleri birleştirme\n",
    "\"\"\"\n",
    "update(), bir kümedeki tüm öğeleri diğerine ekler, yinelenen öğeleri hariç tutar\n",
    "union(), her iki kümedeki tüm öğeleri içeren yeni bir küme döndürür, yinelenen öğeleri hariç tutar\n",
    "intersection ve intersection_update() yalnızca her iki kümede de bulunan öğeleri tutar  \n",
    "symmetric_difference() ve symmetric_difference_update, yalnızca her iki kümede de bulunmayan öğeleri tutar.\n",
    "\"\"\""
   ]
  }
 ],
 "metadata": {
  "kernelspec": {
   "display_name": "Python 3 (ipykernel)",
   "language": "python",
   "name": "python3"
  },
  "language_info": {
   "codemirror_mode": {
    "name": "ipython",
    "version": 3
   },
   "file_extension": ".py",
   "mimetype": "text/x-python",
   "name": "python",
   "nbconvert_exporter": "python",
   "pygments_lexer": "ipython3",
   "version": "3.9.7"
  }
 },
 "nbformat": 4,
 "nbformat_minor": 5
}

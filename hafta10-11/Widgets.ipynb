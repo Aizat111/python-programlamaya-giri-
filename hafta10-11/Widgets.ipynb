{
 "cells": [
  {
   "cell_type": "code",
   "execution_count": 1,
   "id": "6093faaa",
   "metadata": {},
   "outputs": [
    {
     "name": "stdout",
     "output_type": "stream",
     "text": [
      "Requirement already satisfied: PyQt5 in /Users/aizatesenbekova/opt/anaconda3/lib/python3.9/site-packages (5.15.6)\n",
      "Requirement already satisfied: PyQt5-sip<13,>=12.8 in /Users/aizatesenbekova/opt/anaconda3/lib/python3.9/site-packages (from PyQt5) (12.10.1)\n",
      "Requirement already satisfied: PyQt5-Qt5>=5.15.2 in /Users/aizatesenbekova/opt/anaconda3/lib/python3.9/site-packages (from PyQt5) (5.15.2)\n",
      "Note: you may need to restart the kernel to use updated packages.\n"
     ]
    }
   ],
   "source": [
    "pip install PyQt5"
   ]
  },
  {
   "cell_type": "code",
   "execution_count": 2,
   "id": "317ed3a0",
   "metadata": {},
   "outputs": [],
   "source": [
    "from PyQt5 import QtWidgets"
   ]
  },
  {
   "cell_type": "code",
   "execution_count": 3,
   "id": "5e355533",
   "metadata": {},
   "outputs": [],
   "source": [
    "uyg=QtWidgets.QApplication([])"
   ]
  },
  {
   "cell_type": "code",
   "execution_count": 4,
   "id": "245c3bfc",
   "metadata": {},
   "outputs": [],
   "source": [
    "pencere=QtWidgets.QWidget()"
   ]
  },
  {
   "cell_type": "code",
   "execution_count": 5,
   "id": "8ba0e18b",
   "metadata": {},
   "outputs": [],
   "source": [
    "pencere.setWindowTitle(\"Myktybek\")"
   ]
  },
  {
   "cell_type": "code",
   "execution_count": 6,
   "id": "0eb2a7cf",
   "metadata": {},
   "outputs": [],
   "source": [
    "pencere.setGeometry(500,500,500,500)"
   ]
  },
  {
   "cell_type": "code",
   "execution_count": 7,
   "id": "a5f33329",
   "metadata": {},
   "outputs": [],
   "source": [
    "etiket=QtWidgets.QLabel(pencere)\n",
    "etiket.setText(\"Adınız\")\n",
    "etiket.setGeometry(100,50,400,30)\n",
    "etiket.move(100,80)"
   ]
  },
  {
   "cell_type": "code",
   "execution_count": 8,
   "id": "56d0d7f2",
   "metadata": {},
   "outputs": [],
   "source": [
    "#labela yazı degil fotograf koymak istersek\n",
    "#from PyQt5 import QtGui\n",
    "#etiket.setPixmap(QtGui.QPixmap(\"ornek.jpg\"))"
   ]
  },
  {
   "cell_type": "code",
   "execution_count": 9,
   "id": "4994630e",
   "metadata": {},
   "outputs": [],
   "source": [
    "sayac=0\n",
    "def handleClick():\n",
    "    global sayac\n",
    "    sayac+=1\n",
    "    etiket.setText(\"Butona {} kez tıklandı\".format(sayac))"
   ]
  },
  {
   "cell_type": "code",
   "execution_count": 10,
   "id": "99a72200",
   "metadata": {},
   "outputs": [],
   "source": [
    "giriş1=QtWidgets.QLineEdit(pencere)\n",
    "giriş1.move(100,100)\n",
    "name=giriş1.text()"
   ]
  },
  {
   "cell_type": "code",
   "execution_count": 11,
   "id": "07d812e5",
   "metadata": {},
   "outputs": [],
   "source": [
    "check=QtWidgets.QCheckBox(\"Konya\")"
   ]
  },
  {
   "cell_type": "code",
   "execution_count": 12,
   "id": "dbcef013",
   "metadata": {},
   "outputs": [],
   "source": [
    "if check.isChecked():\n",
    "    etiket.setText('Konya seçildi')\n",
    "else:\n",
    "     etiket.setText('Konya seçilmedi')"
   ]
  },
  {
   "cell_type": "code",
   "execution_count": 13,
   "id": "41ca799e",
   "metadata": {},
   "outputs": [
    {
     "data": {
      "text/plain": [
       "<PyQt5.QtCore.QMetaObject.Connection at 0x7fe2e24a17b0>"
      ]
     },
     "execution_count": 13,
     "metadata": {},
     "output_type": "execute_result"
    }
   ],
   "source": [
    "button=QtWidgets.QPushButton(pencere)\n",
    "button.setText(\"Button\")\n",
    "button.move(100,140)\n",
    "button.clicked.connect(handleClick)"
   ]
  },
  {
   "cell_type": "code",
   "execution_count": 14,
   "id": "02a2f762",
   "metadata": {},
   "outputs": [],
   "source": [
    "yatay=QtWidgets.QHBoxLayout()\n",
    "yatay.addStretch()\n",
    "yatay.addWidget(button)\n",
    "dikey=QtWidgets.QVBoxLayout()\n",
    "dikey.addWidget(etiket)\n",
    "dikey.addWidget(giriş1)\n",
    "dikey.addWidget(check)\n",
    "dikey.addStretch()\n",
    "dikey.addLayout(yatay)\n",
    "pencere.setLayout(dikey)"
   ]
  },
  {
   "cell_type": "code",
   "execution_count": null,
   "id": "c4e2909c",
   "metadata": {},
   "outputs": [],
   "source": [
    "pencere.show()\n",
    "uyg.exec_()"
   ]
  },
  {
   "cell_type": "code",
   "execution_count": null,
   "id": "97a7bd0d",
   "metadata": {},
   "outputs": [],
   "source": []
  },
  {
   "cell_type": "code",
   "execution_count": null,
   "id": "0f4b59f9",
   "metadata": {},
   "outputs": [],
   "source": []
  }
 ],
 "metadata": {
  "kernelspec": {
   "display_name": "Python 3 (ipykernel)",
   "language": "python",
   "name": "python3"
  },
  "language_info": {
   "codemirror_mode": {
    "name": "ipython",
    "version": 3
   },
   "file_extension": ".py",
   "mimetype": "text/x-python",
   "name": "python",
   "nbconvert_exporter": "python",
   "pygments_lexer": "ipython3",
   "version": "3.9.12"
  }
 },
 "nbformat": 4,
 "nbformat_minor": 5
}

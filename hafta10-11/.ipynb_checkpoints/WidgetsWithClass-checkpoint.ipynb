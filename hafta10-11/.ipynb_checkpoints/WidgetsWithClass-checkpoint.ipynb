{
 "cells": [
  {
   "cell_type": "code",
   "execution_count": 1,
   "id": "60612f82",
   "metadata": {},
   "outputs": [
    {
     "ename": "NameError",
     "evalue": "name 'def__init__' is not defined",
     "output_type": "error",
     "traceback": [
      "\u001b[0;31m---------------------------------------------------------------------------\u001b[0m",
      "\u001b[0;31mNameError\u001b[0m                                 Traceback (most recent call last)",
      "Input \u001b[0;32mIn [1]\u001b[0m, in \u001b[0;36m<cell line: 2>\u001b[0;34m()\u001b[0m\n\u001b[1;32m      1\u001b[0m \u001b[38;5;28;01mfrom\u001b[39;00m \u001b[38;5;21;01mPyQt5\u001b[39;00m \u001b[38;5;28;01mimport\u001b[39;00m QtWidgets\n\u001b[0;32m----> 2\u001b[0m \u001b[38;5;28;01mclass\u001b[39;00m \u001b[38;5;21;01mPencere\u001b[39;00m(QtWidgets\u001b[38;5;241m.\u001b[39mQWidget):\n\u001b[1;32m      3\u001b[0m     def__init__(\u001b[38;5;28mself\u001b[39m)\n\u001b[1;32m      4\u001b[0m     \u001b[38;5;28msuper\u001b[39m()\u001b[38;5;241m.\u001b[39m\u001b[38;5;21m__init__\u001b[39m()\n",
      "Input \u001b[0;32mIn [1]\u001b[0m, in \u001b[0;36mPencere\u001b[0;34m()\u001b[0m\n\u001b[1;32m      2\u001b[0m \u001b[38;5;28;01mclass\u001b[39;00m \u001b[38;5;21;01mPencere\u001b[39;00m(QtWidgets\u001b[38;5;241m.\u001b[39mQWidget):\n\u001b[0;32m----> 3\u001b[0m     \u001b[43mdef__init__\u001b[49m(\u001b[38;5;28mself\u001b[39m)\n\u001b[1;32m      4\u001b[0m     \u001b[38;5;28msuper\u001b[39m()\u001b[38;5;241m.\u001b[39m\u001b[38;5;21m__init__\u001b[39m()\n\u001b[1;32m      5\u001b[0m     \u001b[38;5;28mself\u001b[39m\u001b[38;5;241m.\u001b[39msetGeometry(\u001b[38;5;241m100\u001b[39m,\u001b[38;5;241m200\u001b[39m,\u001b[38;5;241m400\u001b[39m,\u001b[38;5;241m450\u001b[39m)\n",
      "\u001b[0;31mNameError\u001b[0m: name 'def__init__' is not defined"
     ]
    }
   ],
   "source": [
    "from PyQt5 import QtWidgets\n",
    "class Pencere(QtWidgets.QWidget):\n",
    "    def__init__(self):\n",
    "        super().__init__()\n",
    "        self.setGeometry(100,200,400,450)\n",
    "        self.arayuz()\n",
    "    \n",
    "    def tikla(self):\n",
    "        self.sayi+=1\n",
    "        self.etiket.setText(\"Butona {} kez tıklandı\".format(self.sayi))\n",
    "        \n",
    "    def arayuz(self):\n",
    "        self.etiket=QtWidgets.QLabel(self)\n",
    "        self.etiket.move(100,50)\n",
    "        \n",
    "        buton=QtWidgets.QPushButton(self)\n",
    "        buton.setText(\"Button\")\n",
    "        buton.move(100,125)\n",
    "        \n",
    "        yatay=QtWidgets.QHBoxLayout()\n",
    "        self.setLayout(yatay)\n",
    "        \n",
    "        self.sayi=0\n",
    "        \n",
    "        buton.clicked.connect(self.tikla)\n",
    "        \n",
    "        self.show()\n",
    "\n",
    "uyg=QtWidgets.QApplication([])\n",
    "pencere=Pencere()\n",
    "uyg.exec_()\n",
    "        \n",
    "    \n",
    "    "
   ]
  },
  {
   "cell_type": "code",
   "execution_count": null,
   "id": "6707f2d4",
   "metadata": {},
   "outputs": [],
   "source": []
  }
 ],
 "metadata": {
  "kernelspec": {
   "display_name": "Python 3 (ipykernel)",
   "language": "python",
   "name": "python3"
  },
  "language_info": {
   "codemirror_mode": {
    "name": "ipython",
    "version": 3
   },
   "file_extension": ".py",
   "mimetype": "text/x-python",
   "name": "python",
   "nbconvert_exporter": "python",
   "pygments_lexer": "ipython3",
   "version": "3.9.12"
  }
 },
 "nbformat": 4,
 "nbformat_minor": 5
}
